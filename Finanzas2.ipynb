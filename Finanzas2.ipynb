{
  "nbformat": 4,
  "nbformat_minor": 0,
  "metadata": {
    "colab": {
      "name": "Finanzas2.ipynb",
      "provenance": [],
      "include_colab_link": true
    },
    "kernelspec": {
      "name": "python3",
      "display_name": "Python 3"
    },
    "language_info": {
      "name": "python"
    }
  },
  "cells": [
    {
      "cell_type": "markdown",
      "metadata": {
        "id": "view-in-github",
        "colab_type": "text"
      },
      "source": [
        "<a href=\"https://colab.research.google.com/github/cristobalperezp/Finanzas_II/blob/main/Finanzas2.ipynb\" target=\"_parent\"><img src=\"https://colab.research.google.com/assets/colab-badge.svg\" alt=\"Open In Colab\"/></a>"
      ]
    },
    {
      "cell_type": "markdown",
      "source": [
        "#Tarea 2: IN 5303 Finanzas II\n",
        "**Profesor:** J. Miguel Cruz.\n",
        "\n",
        "**Auxiliar:** Nicolás Besser.\n",
        "\n",
        "**Integrantes:** Cristóbal Pérez, Felipe Moreno, Jesús Farías.\n",
        "\n",
        "\n",
        "Usted trabaja para una gestora de fondos y le piden construir un fondo de renta variable y renta fija, balanceado, y que sea atractivo para sus clientes. Para esto usted posee los siguientes índices de renta fija y renta variable, nacionales e internacionales.\n",
        "\n",
        "\n",
        "\n",
        "*   **Renta Variable Nacional:** IPSA\n",
        "*   **Renta Variable Internacional:** EEUU, Europa Desarrollado, Asia Emergente, Asia desarrollado,\n",
        "Latam.\n",
        "*   **Renta Fija Nacional Estatal:** Deuda Chilena CLP Duration <5Y, Deuda Chilena UF Duration <5Y, Deuda Chilena Gob Dur >5Y.\n",
        "*   **Renta Fija Nacional Privada:** Deuda Chilena Corporativa\n",
        "*   **Renta Fija Internacional:** Deuda Corporativa Emergente, Deuda Corporativa Desarrollada High Yield, Deuda Corporativa Desarrollada Investment Grade, Deuda Soberana EEUU 7y-10y.\n",
        "\n",
        "Los índices de renta internacional y nacional ya se encuentran ajustados a pesos chilenos.\n",
        "\n"
      ],
      "metadata": {
        "id": "7S0zpv-Ah1cU"
      }
    },
    {
      "cell_type": "markdown",
      "source": [
        "##Parte 1:"
      ],
      "metadata": {
        "id": "x0_e0csdaxux"
      }
    },
    {
      "cell_type": "markdown",
      "source": [
        "###1.1 Retornos Logarítmicos"
      ],
      "metadata": {
        "id": "SYOkR6cNh6NZ"
      }
    },
    {
      "cell_type": "code",
      "execution_count": null,
      "metadata": {
        "id": "AfRZRVZBXFcq"
      },
      "outputs": [],
      "source": [
        "# Se cargan las librerías a utilizar para el trabajo con DataFrames:\n",
        "import pandas as pd\n",
        "import numpy as np\n",
        "from datetime import datetime\n",
        "import matplotlib.pyplot as plt\n",
        "import statistics\n",
        "import seaborn as sns\n",
        "from pandas_datareader import data"
      ]
    },
    {
      "cell_type": "code",
      "source": [
        "# Se Cargan los datos y se leen:\n",
        "!git clone https://github.com/cristobalperezp/Finanzas_II.git\n",
        "df = pd.read_excel('/content/Finanzas_II/DataTarea2.xlsx', index_col = 'Fecha')\n",
        "# Se crea una copia del DataFrame\n",
        "df2 = df.copy()\n",
        "# Se filtran los datos hasta finales de 2019\n",
        "df2 = df2['2000-03-01':'2019-12-31']\n",
        "df2"
      ],
      "metadata": {
        "id": "PUdIclyJXJqN",
        "colab": {
          "base_uri": "https://localhost:8080/",
          "height": 559
        },
        "outputId": "73f8fa2b-a282-4bfc-c051-2f1ebf2adedf"
      },
      "execution_count": null,
      "outputs": [
        {
          "output_type": "stream",
          "name": "stdout",
          "text": [
            "Cloning into 'Finanzas_II'...\n",
            "remote: Enumerating objects: 6, done.\u001b[K\n",
            "remote: Counting objects: 100% (6/6), done.\u001b[K\n",
            "remote: Compressing objects: 100% (4/4), done.\u001b[K\n",
            "remote: Total 6 (delta 0), reused 0 (delta 0), pack-reused 0\u001b[K\n",
            "Unpacking objects: 100% (6/6), done.\n"
          ]
        },
        {
          "output_type": "execute_result",
          "data": {
            "text/plain": [
              "                IPSA     Latam       USA    Europe  Asia Dev   Asia EM  \\\n",
              "Fecha                                                                    \n",
              "2000-03-01  1.000000  1.000000  1.000000  1.000000  1.000000  1.000000   \n",
              "2000-03-02  1.002014  1.022553  1.004882  1.018759  0.995418  1.023291   \n",
              "2000-03-03  1.014114  1.044147  1.023251  1.024850  0.986854  1.009358   \n",
              "2000-03-06  1.008601  1.037544  1.012330  1.035059  0.974942  1.019141   \n",
              "2000-03-07  0.992485  1.040493  0.990231  1.027955  0.998498  1.020036   \n",
              "...              ...       ...       ...       ...       ...       ...   \n",
              "2019-12-25  4.422819  6.420718  5.046535  3.429653  2.936336  5.270631   \n",
              "2019-12-26  4.377012  6.471263  5.051815  3.406933  2.930717  5.260287   \n",
              "2019-12-27  4.394475  6.469727  5.060986  3.442713  2.947877  5.307845   \n",
              "2019-12-30  4.409207  6.489422  5.064231  3.444860  2.966570  5.340098   \n",
              "2019-12-31  4.405066  6.480507  5.079243  3.448311  2.963386  5.318061   \n",
              "\n",
              "                EMEA  CLP Dur < 5Y  UF Dur < 5Y  Gob Dur >5Y  \\\n",
              "Fecha                                                          \n",
              "2000-03-01  1.000000      1.000000     1.000000     1.000000   \n",
              "2000-03-02  0.994684      0.999117     0.999117     1.000805   \n",
              "2000-03-03  0.988018      0.998332     0.998332     0.999240   \n",
              "2000-03-06  0.994535      1.002083     1.002083     1.003659   \n",
              "2000-03-07  1.002051      1.003313     1.003313     1.017161   \n",
              "...              ...           ...          ...          ...   \n",
              "2019-12-25  4.066923      3.538155     3.681988     5.318570   \n",
              "2019-12-26  4.047126      3.540976     3.684525     5.325987   \n",
              "2019-12-27  4.082177      3.545426     3.687864     5.331494   \n",
              "2019-12-30  4.114781      3.551011     3.691514     5.336965   \n",
              "2019-12-31  4.105212      3.551307     3.691726     5.336901   \n",
              "\n",
              "            Corporativos Chile  Corporativos EM  Corporativos Dev HY  \\\n",
              "Fecha                                                                  \n",
              "2000-03-01            1.000000              NaN             1.000000   \n",
              "2000-03-02            0.999235              NaN             0.999490   \n",
              "2000-03-03            0.998297              NaN             0.999818   \n",
              "2000-03-06            1.004439              NaN             1.002307   \n",
              "2000-03-07            1.015878              NaN             1.007159   \n",
              "...                        ...              ...                  ...   \n",
              "2019-12-25            5.652470         5.436940             4.891316   \n",
              "2019-12-26            5.656915         5.415967             4.875099   \n",
              "2019-12-27            5.668223         5.432240             4.892332   \n",
              "2019-12-30            5.677825         5.465123             4.927709   \n",
              "2019-12-31            5.678196         5.464120             4.930647   \n",
              "\n",
              "            Corporativos Dev IG  Treasury  \n",
              "Fecha                                      \n",
              "2000-03-01             1.000000       NaN  \n",
              "2000-03-02             0.999503       NaN  \n",
              "2000-03-03             0.999503       NaN  \n",
              "2000-03-06             1.001649       NaN  \n",
              "2000-03-07             1.006099       NaN  \n",
              "...                         ...       ...  \n",
              "2019-12-25             4.158262  2.970853  \n",
              "2019-12-26             4.142502  2.960344  \n",
              "2019-12-27             4.157598  2.973025  \n",
              "2019-12-30             4.176263  2.987562  \n",
              "2019-12-31             4.172670  2.983621  \n",
              "\n",
              "[5175 rows x 15 columns]"
            ],
            "text/html": [
              "\n",
              "  <div id=\"df-dc890695-057e-4db1-9c69-938dee777cff\">\n",
              "    <div class=\"colab-df-container\">\n",
              "      <div>\n",
              "<style scoped>\n",
              "    .dataframe tbody tr th:only-of-type {\n",
              "        vertical-align: middle;\n",
              "    }\n",
              "\n",
              "    .dataframe tbody tr th {\n",
              "        vertical-align: top;\n",
              "    }\n",
              "\n",
              "    .dataframe thead th {\n",
              "        text-align: right;\n",
              "    }\n",
              "</style>\n",
              "<table border=\"1\" class=\"dataframe\">\n",
              "  <thead>\n",
              "    <tr style=\"text-align: right;\">\n",
              "      <th></th>\n",
              "      <th>IPSA</th>\n",
              "      <th>Latam</th>\n",
              "      <th>USA</th>\n",
              "      <th>Europe</th>\n",
              "      <th>Asia Dev</th>\n",
              "      <th>Asia EM</th>\n",
              "      <th>EMEA</th>\n",
              "      <th>CLP Dur &lt; 5Y</th>\n",
              "      <th>UF Dur &lt; 5Y</th>\n",
              "      <th>Gob Dur &gt;5Y</th>\n",
              "      <th>Corporativos Chile</th>\n",
              "      <th>Corporativos EM</th>\n",
              "      <th>Corporativos Dev HY</th>\n",
              "      <th>Corporativos Dev IG</th>\n",
              "      <th>Treasury</th>\n",
              "    </tr>\n",
              "    <tr>\n",
              "      <th>Fecha</th>\n",
              "      <th></th>\n",
              "      <th></th>\n",
              "      <th></th>\n",
              "      <th></th>\n",
              "      <th></th>\n",
              "      <th></th>\n",
              "      <th></th>\n",
              "      <th></th>\n",
              "      <th></th>\n",
              "      <th></th>\n",
              "      <th></th>\n",
              "      <th></th>\n",
              "      <th></th>\n",
              "      <th></th>\n",
              "      <th></th>\n",
              "    </tr>\n",
              "  </thead>\n",
              "  <tbody>\n",
              "    <tr>\n",
              "      <th>2000-03-01</th>\n",
              "      <td>1.000000</td>\n",
              "      <td>1.000000</td>\n",
              "      <td>1.000000</td>\n",
              "      <td>1.000000</td>\n",
              "      <td>1.000000</td>\n",
              "      <td>1.000000</td>\n",
              "      <td>1.000000</td>\n",
              "      <td>1.000000</td>\n",
              "      <td>1.000000</td>\n",
              "      <td>1.000000</td>\n",
              "      <td>1.000000</td>\n",
              "      <td>NaN</td>\n",
              "      <td>1.000000</td>\n",
              "      <td>1.000000</td>\n",
              "      <td>NaN</td>\n",
              "    </tr>\n",
              "    <tr>\n",
              "      <th>2000-03-02</th>\n",
              "      <td>1.002014</td>\n",
              "      <td>1.022553</td>\n",
              "      <td>1.004882</td>\n",
              "      <td>1.018759</td>\n",
              "      <td>0.995418</td>\n",
              "      <td>1.023291</td>\n",
              "      <td>0.994684</td>\n",
              "      <td>0.999117</td>\n",
              "      <td>0.999117</td>\n",
              "      <td>1.000805</td>\n",
              "      <td>0.999235</td>\n",
              "      <td>NaN</td>\n",
              "      <td>0.999490</td>\n",
              "      <td>0.999503</td>\n",
              "      <td>NaN</td>\n",
              "    </tr>\n",
              "    <tr>\n",
              "      <th>2000-03-03</th>\n",
              "      <td>1.014114</td>\n",
              "      <td>1.044147</td>\n",
              "      <td>1.023251</td>\n",
              "      <td>1.024850</td>\n",
              "      <td>0.986854</td>\n",
              "      <td>1.009358</td>\n",
              "      <td>0.988018</td>\n",
              "      <td>0.998332</td>\n",
              "      <td>0.998332</td>\n",
              "      <td>0.999240</td>\n",
              "      <td>0.998297</td>\n",
              "      <td>NaN</td>\n",
              "      <td>0.999818</td>\n",
              "      <td>0.999503</td>\n",
              "      <td>NaN</td>\n",
              "    </tr>\n",
              "    <tr>\n",
              "      <th>2000-03-06</th>\n",
              "      <td>1.008601</td>\n",
              "      <td>1.037544</td>\n",
              "      <td>1.012330</td>\n",
              "      <td>1.035059</td>\n",
              "      <td>0.974942</td>\n",
              "      <td>1.019141</td>\n",
              "      <td>0.994535</td>\n",
              "      <td>1.002083</td>\n",
              "      <td>1.002083</td>\n",
              "      <td>1.003659</td>\n",
              "      <td>1.004439</td>\n",
              "      <td>NaN</td>\n",
              "      <td>1.002307</td>\n",
              "      <td>1.001649</td>\n",
              "      <td>NaN</td>\n",
              "    </tr>\n",
              "    <tr>\n",
              "      <th>2000-03-07</th>\n",
              "      <td>0.992485</td>\n",
              "      <td>1.040493</td>\n",
              "      <td>0.990231</td>\n",
              "      <td>1.027955</td>\n",
              "      <td>0.998498</td>\n",
              "      <td>1.020036</td>\n",
              "      <td>1.002051</td>\n",
              "      <td>1.003313</td>\n",
              "      <td>1.003313</td>\n",
              "      <td>1.017161</td>\n",
              "      <td>1.015878</td>\n",
              "      <td>NaN</td>\n",
              "      <td>1.007159</td>\n",
              "      <td>1.006099</td>\n",
              "      <td>NaN</td>\n",
              "    </tr>\n",
              "    <tr>\n",
              "      <th>...</th>\n",
              "      <td>...</td>\n",
              "      <td>...</td>\n",
              "      <td>...</td>\n",
              "      <td>...</td>\n",
              "      <td>...</td>\n",
              "      <td>...</td>\n",
              "      <td>...</td>\n",
              "      <td>...</td>\n",
              "      <td>...</td>\n",
              "      <td>...</td>\n",
              "      <td>...</td>\n",
              "      <td>...</td>\n",
              "      <td>...</td>\n",
              "      <td>...</td>\n",
              "      <td>...</td>\n",
              "    </tr>\n",
              "    <tr>\n",
              "      <th>2019-12-25</th>\n",
              "      <td>4.422819</td>\n",
              "      <td>6.420718</td>\n",
              "      <td>5.046535</td>\n",
              "      <td>3.429653</td>\n",
              "      <td>2.936336</td>\n",
              "      <td>5.270631</td>\n",
              "      <td>4.066923</td>\n",
              "      <td>3.538155</td>\n",
              "      <td>3.681988</td>\n",
              "      <td>5.318570</td>\n",
              "      <td>5.652470</td>\n",
              "      <td>5.436940</td>\n",
              "      <td>4.891316</td>\n",
              "      <td>4.158262</td>\n",
              "      <td>2.970853</td>\n",
              "    </tr>\n",
              "    <tr>\n",
              "      <th>2019-12-26</th>\n",
              "      <td>4.377012</td>\n",
              "      <td>6.471263</td>\n",
              "      <td>5.051815</td>\n",
              "      <td>3.406933</td>\n",
              "      <td>2.930717</td>\n",
              "      <td>5.260287</td>\n",
              "      <td>4.047126</td>\n",
              "      <td>3.540976</td>\n",
              "      <td>3.684525</td>\n",
              "      <td>5.325987</td>\n",
              "      <td>5.656915</td>\n",
              "      <td>5.415967</td>\n",
              "      <td>4.875099</td>\n",
              "      <td>4.142502</td>\n",
              "      <td>2.960344</td>\n",
              "    </tr>\n",
              "    <tr>\n",
              "      <th>2019-12-27</th>\n",
              "      <td>4.394475</td>\n",
              "      <td>6.469727</td>\n",
              "      <td>5.060986</td>\n",
              "      <td>3.442713</td>\n",
              "      <td>2.947877</td>\n",
              "      <td>5.307845</td>\n",
              "      <td>4.082177</td>\n",
              "      <td>3.545426</td>\n",
              "      <td>3.687864</td>\n",
              "      <td>5.331494</td>\n",
              "      <td>5.668223</td>\n",
              "      <td>5.432240</td>\n",
              "      <td>4.892332</td>\n",
              "      <td>4.157598</td>\n",
              "      <td>2.973025</td>\n",
              "    </tr>\n",
              "    <tr>\n",
              "      <th>2019-12-30</th>\n",
              "      <td>4.409207</td>\n",
              "      <td>6.489422</td>\n",
              "      <td>5.064231</td>\n",
              "      <td>3.444860</td>\n",
              "      <td>2.966570</td>\n",
              "      <td>5.340098</td>\n",
              "      <td>4.114781</td>\n",
              "      <td>3.551011</td>\n",
              "      <td>3.691514</td>\n",
              "      <td>5.336965</td>\n",
              "      <td>5.677825</td>\n",
              "      <td>5.465123</td>\n",
              "      <td>4.927709</td>\n",
              "      <td>4.176263</td>\n",
              "      <td>2.987562</td>\n",
              "    </tr>\n",
              "    <tr>\n",
              "      <th>2019-12-31</th>\n",
              "      <td>4.405066</td>\n",
              "      <td>6.480507</td>\n",
              "      <td>5.079243</td>\n",
              "      <td>3.448311</td>\n",
              "      <td>2.963386</td>\n",
              "      <td>5.318061</td>\n",
              "      <td>4.105212</td>\n",
              "      <td>3.551307</td>\n",
              "      <td>3.691726</td>\n",
              "      <td>5.336901</td>\n",
              "      <td>5.678196</td>\n",
              "      <td>5.464120</td>\n",
              "      <td>4.930647</td>\n",
              "      <td>4.172670</td>\n",
              "      <td>2.983621</td>\n",
              "    </tr>\n",
              "  </tbody>\n",
              "</table>\n",
              "<p>5175 rows × 15 columns</p>\n",
              "</div>\n",
              "      <button class=\"colab-df-convert\" onclick=\"convertToInteractive('df-dc890695-057e-4db1-9c69-938dee777cff')\"\n",
              "              title=\"Convert this dataframe to an interactive table.\"\n",
              "              style=\"display:none;\">\n",
              "        \n",
              "  <svg xmlns=\"http://www.w3.org/2000/svg\" height=\"24px\"viewBox=\"0 0 24 24\"\n",
              "       width=\"24px\">\n",
              "    <path d=\"M0 0h24v24H0V0z\" fill=\"none\"/>\n",
              "    <path d=\"M18.56 5.44l.94 2.06.94-2.06 2.06-.94-2.06-.94-.94-2.06-.94 2.06-2.06.94zm-11 1L8.5 8.5l.94-2.06 2.06-.94-2.06-.94L8.5 2.5l-.94 2.06-2.06.94zm10 10l.94 2.06.94-2.06 2.06-.94-2.06-.94-.94-2.06-.94 2.06-2.06.94z\"/><path d=\"M17.41 7.96l-1.37-1.37c-.4-.4-.92-.59-1.43-.59-.52 0-1.04.2-1.43.59L10.3 9.45l-7.72 7.72c-.78.78-.78 2.05 0 2.83L4 21.41c.39.39.9.59 1.41.59.51 0 1.02-.2 1.41-.59l7.78-7.78 2.81-2.81c.8-.78.8-2.07 0-2.86zM5.41 20L4 18.59l7.72-7.72 1.47 1.35L5.41 20z\"/>\n",
              "  </svg>\n",
              "      </button>\n",
              "      \n",
              "  <style>\n",
              "    .colab-df-container {\n",
              "      display:flex;\n",
              "      flex-wrap:wrap;\n",
              "      gap: 12px;\n",
              "    }\n",
              "\n",
              "    .colab-df-convert {\n",
              "      background-color: #E8F0FE;\n",
              "      border: none;\n",
              "      border-radius: 50%;\n",
              "      cursor: pointer;\n",
              "      display: none;\n",
              "      fill: #1967D2;\n",
              "      height: 32px;\n",
              "      padding: 0 0 0 0;\n",
              "      width: 32px;\n",
              "    }\n",
              "\n",
              "    .colab-df-convert:hover {\n",
              "      background-color: #E2EBFA;\n",
              "      box-shadow: 0px 1px 2px rgba(60, 64, 67, 0.3), 0px 1px 3px 1px rgba(60, 64, 67, 0.15);\n",
              "      fill: #174EA6;\n",
              "    }\n",
              "\n",
              "    [theme=dark] .colab-df-convert {\n",
              "      background-color: #3B4455;\n",
              "      fill: #D2E3FC;\n",
              "    }\n",
              "\n",
              "    [theme=dark] .colab-df-convert:hover {\n",
              "      background-color: #434B5C;\n",
              "      box-shadow: 0px 1px 3px 1px rgba(0, 0, 0, 0.15);\n",
              "      filter: drop-shadow(0px 1px 2px rgba(0, 0, 0, 0.3));\n",
              "      fill: #FFFFFF;\n",
              "    }\n",
              "  </style>\n",
              "\n",
              "      <script>\n",
              "        const buttonEl =\n",
              "          document.querySelector('#df-dc890695-057e-4db1-9c69-938dee777cff button.colab-df-convert');\n",
              "        buttonEl.style.display =\n",
              "          google.colab.kernel.accessAllowed ? 'block' : 'none';\n",
              "\n",
              "        async function convertToInteractive(key) {\n",
              "          const element = document.querySelector('#df-dc890695-057e-4db1-9c69-938dee777cff');\n",
              "          const dataTable =\n",
              "            await google.colab.kernel.invokeFunction('convertToInteractive',\n",
              "                                                     [key], {});\n",
              "          if (!dataTable) return;\n",
              "\n",
              "          const docLinkHtml = 'Like what you see? Visit the ' +\n",
              "            '<a target=\"_blank\" href=https://colab.research.google.com/notebooks/data_table.ipynb>data table notebook</a>'\n",
              "            + ' to learn more about interactive tables.';\n",
              "          element.innerHTML = '';\n",
              "          dataTable['output_type'] = 'display_data';\n",
              "          await google.colab.output.renderOutput(dataTable, element);\n",
              "          const docLink = document.createElement('div');\n",
              "          docLink.innerHTML = docLinkHtml;\n",
              "          element.appendChild(docLink);\n",
              "        }\n",
              "      </script>\n",
              "    </div>\n",
              "  </div>\n",
              "  "
            ]
          },
          "metadata": {},
          "execution_count": 2
        }
      ]
    },
    {
      "cell_type": "markdown",
      "source": [
        "Recordando que los retornos logarítmicos se definen como:\n",
        "\n",
        "$$r_i = \\frac{Ln(\\frac{P_i}{P_{i-1}})}{t_i-t_{i-1}}$$"
      ],
      "metadata": {
        "id": "NKTOg3oiRWIN"
      }
    },
    {
      "cell_type": "code",
      "source": [
        "# Se crea una función para obtener los retornos logarítmicos, la cual recibe una columna y devuelve el vector de retornos logarítmicos\n",
        "def log_r(columna):\n",
        "  log_retorno = np.zeros(len(columna))\n",
        "  for i in range(len(columna)-1):\n",
        "    log_retorno[i+1] = np.log(columna[i+1]/columna[i])\n",
        "  return log_retorno"
      ],
      "metadata": {
        "id": "SSJJKfjlXYB1"
      },
      "execution_count": null,
      "outputs": []
    },
    {
      "cell_type": "code",
      "source": [
        "# Se define un vector con el nombre de las nuevas columnas, correspondientes a los retornos logarítmicos\n",
        "log_variables = ['log_IPSA', 'log_Latam', 'log_USA', 'log_Europe', 'log_Asia Dev', 'log_Asia EM', 'log_EMEA',\n",
        "       'log_CLP Dur < 5Y', 'log_UF Dur < 5Y', 'log_Gob Dur >5Y', 'log_Corporativos Chile',\n",
        "       'log_Corporativos EM', 'log_Corporativos Dev HY', 'log_Corporativos Dev IG',\n",
        "       'log_Treasury']\n",
        "df_log = pd.DataFrame(index = df2.index)\n",
        "for i in range(len(log_variables)):\n",
        "  df_log[log_variables[i]] = log_r(df2[df2.columns[i]])\n",
        "df_log = df_log.iloc[1:]\n",
        "df_log"
      ],
      "metadata": {
        "id": "flstRPewXdlB",
        "colab": {
          "base_uri": "https://localhost:8080/",
          "height": 690
        },
        "outputId": "1aeb5432-5564-48b5-ef14-591ea04558e5"
      },
      "execution_count": null,
      "outputs": [
        {
          "output_type": "execute_result",
          "data": {
            "text/plain": [
              "            log_IPSA  log_Latam   log_USA  log_Europe  log_Asia Dev  \\\n",
              "Fecha                                                                 \n",
              "2000-03-02  0.002012   0.022302  0.004870    0.018585     -0.004593   \n",
              "2000-03-03  0.012003   0.020898  0.018115    0.005962     -0.008640   \n",
              "2000-03-06 -0.005451  -0.006343 -0.010730    0.009912     -0.012144   \n",
              "2000-03-07 -0.016108   0.002838 -0.022071   -0.006887      0.023874   \n",
              "2000-03-08  0.015227   0.014538  0.011304   -0.008313     -0.001204   \n",
              "...              ...        ...       ...         ...           ...   \n",
              "2019-12-25 -0.003345  -0.003345 -0.003345    0.000480     -0.005502   \n",
              "2019-12-26 -0.010411   0.007841  0.001046   -0.006647     -0.001915   \n",
              "2019-12-27  0.003982  -0.000237  0.001814    0.010448      0.005838   \n",
              "2019-12-30  0.003347   0.003039  0.000641    0.000623      0.006321   \n",
              "2019-12-31 -0.000940  -0.001375  0.002960    0.001001     -0.001074   \n",
              "\n",
              "            log_Asia EM  log_EMEA  log_CLP Dur < 5Y  log_UF Dur < 5Y  \\\n",
              "Fecha                                                                  \n",
              "2000-03-02     0.023024 -0.005330         -0.000883        -0.000883   \n",
              "2000-03-03    -0.013710 -0.006725         -0.000786        -0.000786   \n",
              "2000-03-06     0.009646  0.006575          0.003751         0.003751   \n",
              "2000-03-07     0.000878  0.007528          0.001226         0.001226   \n",
              "2000-03-08     0.006006  0.006744         -0.001467        -0.001467   \n",
              "...                 ...       ...               ...              ...   \n",
              "2019-12-25    -0.002830 -0.005446          0.000074         0.000068   \n",
              "2019-12-26    -0.001965 -0.004880          0.000797         0.000689   \n",
              "2019-12-27     0.009000  0.008623          0.001256         0.000906   \n",
              "2019-12-30     0.006058  0.007955          0.001574         0.000989   \n",
              "2019-12-31    -0.004135 -0.002328          0.000083         0.000057   \n",
              "\n",
              "            log_Gob Dur >5Y  log_Corporativos Chile  log_Corporativos EM  \\\n",
              "Fecha                                                                      \n",
              "2000-03-02         0.000805               -0.000765                  NaN   \n",
              "2000-03-03        -0.001565               -0.000939                  NaN   \n",
              "2000-03-06         0.004413                0.006134                  NaN   \n",
              "2000-03-07         0.013363                0.011324                  NaN   \n",
              "2000-03-08        -0.016221               -0.012778                  NaN   \n",
              "...                     ...                     ...                  ...   \n",
              "2019-12-25         0.000000                0.000073            -0.003345   \n",
              "2019-12-26         0.001394                0.000786            -0.003865   \n",
              "2019-12-27         0.001033                0.001997             0.003000   \n",
              "2019-12-30         0.001026                0.001693             0.006035   \n",
              "2019-12-31        -0.000012                0.000065            -0.000183   \n",
              "\n",
              "            log_Corporativos Dev HY  log_Corporativos Dev IG  log_Treasury  \n",
              "Fecha                                                                       \n",
              "2000-03-02                -0.000510                -0.000497           NaN  \n",
              "2000-03-03                 0.000329                 0.000000           NaN  \n",
              "2000-03-06                 0.002486                 0.002144           NaN  \n",
              "2000-03-07                 0.004829                 0.004433           NaN  \n",
              "2000-03-08                 0.004246                 0.004000           NaN  \n",
              "...                             ...                      ...           ...  \n",
              "2019-12-25                -0.003345                -0.003311     -0.003345  \n",
              "2019-12-26                -0.003321                -0.003797     -0.003544  \n",
              "2019-12-27                 0.003529                 0.003638      0.004274  \n",
              "2019-12-30                 0.007205                 0.004479      0.004878  \n",
              "2019-12-31                 0.000596                -0.000861     -0.001320  \n",
              "\n",
              "[5174 rows x 15 columns]"
            ],
            "text/html": [
              "\n",
              "  <div id=\"df-90a03309-c7af-4236-9e2b-e2f33d0b6e6c\">\n",
              "    <div class=\"colab-df-container\">\n",
              "      <div>\n",
              "<style scoped>\n",
              "    .dataframe tbody tr th:only-of-type {\n",
              "        vertical-align: middle;\n",
              "    }\n",
              "\n",
              "    .dataframe tbody tr th {\n",
              "        vertical-align: top;\n",
              "    }\n",
              "\n",
              "    .dataframe thead th {\n",
              "        text-align: right;\n",
              "    }\n",
              "</style>\n",
              "<table border=\"1\" class=\"dataframe\">\n",
              "  <thead>\n",
              "    <tr style=\"text-align: right;\">\n",
              "      <th></th>\n",
              "      <th>log_IPSA</th>\n",
              "      <th>log_Latam</th>\n",
              "      <th>log_USA</th>\n",
              "      <th>log_Europe</th>\n",
              "      <th>log_Asia Dev</th>\n",
              "      <th>log_Asia EM</th>\n",
              "      <th>log_EMEA</th>\n",
              "      <th>log_CLP Dur &lt; 5Y</th>\n",
              "      <th>log_UF Dur &lt; 5Y</th>\n",
              "      <th>log_Gob Dur &gt;5Y</th>\n",
              "      <th>log_Corporativos Chile</th>\n",
              "      <th>log_Corporativos EM</th>\n",
              "      <th>log_Corporativos Dev HY</th>\n",
              "      <th>log_Corporativos Dev IG</th>\n",
              "      <th>log_Treasury</th>\n",
              "    </tr>\n",
              "    <tr>\n",
              "      <th>Fecha</th>\n",
              "      <th></th>\n",
              "      <th></th>\n",
              "      <th></th>\n",
              "      <th></th>\n",
              "      <th></th>\n",
              "      <th></th>\n",
              "      <th></th>\n",
              "      <th></th>\n",
              "      <th></th>\n",
              "      <th></th>\n",
              "      <th></th>\n",
              "      <th></th>\n",
              "      <th></th>\n",
              "      <th></th>\n",
              "      <th></th>\n",
              "    </tr>\n",
              "  </thead>\n",
              "  <tbody>\n",
              "    <tr>\n",
              "      <th>2000-03-02</th>\n",
              "      <td>0.002012</td>\n",
              "      <td>0.022302</td>\n",
              "      <td>0.004870</td>\n",
              "      <td>0.018585</td>\n",
              "      <td>-0.004593</td>\n",
              "      <td>0.023024</td>\n",
              "      <td>-0.005330</td>\n",
              "      <td>-0.000883</td>\n",
              "      <td>-0.000883</td>\n",
              "      <td>0.000805</td>\n",
              "      <td>-0.000765</td>\n",
              "      <td>NaN</td>\n",
              "      <td>-0.000510</td>\n",
              "      <td>-0.000497</td>\n",
              "      <td>NaN</td>\n",
              "    </tr>\n",
              "    <tr>\n",
              "      <th>2000-03-03</th>\n",
              "      <td>0.012003</td>\n",
              "      <td>0.020898</td>\n",
              "      <td>0.018115</td>\n",
              "      <td>0.005962</td>\n",
              "      <td>-0.008640</td>\n",
              "      <td>-0.013710</td>\n",
              "      <td>-0.006725</td>\n",
              "      <td>-0.000786</td>\n",
              "      <td>-0.000786</td>\n",
              "      <td>-0.001565</td>\n",
              "      <td>-0.000939</td>\n",
              "      <td>NaN</td>\n",
              "      <td>0.000329</td>\n",
              "      <td>0.000000</td>\n",
              "      <td>NaN</td>\n",
              "    </tr>\n",
              "    <tr>\n",
              "      <th>2000-03-06</th>\n",
              "      <td>-0.005451</td>\n",
              "      <td>-0.006343</td>\n",
              "      <td>-0.010730</td>\n",
              "      <td>0.009912</td>\n",
              "      <td>-0.012144</td>\n",
              "      <td>0.009646</td>\n",
              "      <td>0.006575</td>\n",
              "      <td>0.003751</td>\n",
              "      <td>0.003751</td>\n",
              "      <td>0.004413</td>\n",
              "      <td>0.006134</td>\n",
              "      <td>NaN</td>\n",
              "      <td>0.002486</td>\n",
              "      <td>0.002144</td>\n",
              "      <td>NaN</td>\n",
              "    </tr>\n",
              "    <tr>\n",
              "      <th>2000-03-07</th>\n",
              "      <td>-0.016108</td>\n",
              "      <td>0.002838</td>\n",
              "      <td>-0.022071</td>\n",
              "      <td>-0.006887</td>\n",
              "      <td>0.023874</td>\n",
              "      <td>0.000878</td>\n",
              "      <td>0.007528</td>\n",
              "      <td>0.001226</td>\n",
              "      <td>0.001226</td>\n",
              "      <td>0.013363</td>\n",
              "      <td>0.011324</td>\n",
              "      <td>NaN</td>\n",
              "      <td>0.004829</td>\n",
              "      <td>0.004433</td>\n",
              "      <td>NaN</td>\n",
              "    </tr>\n",
              "    <tr>\n",
              "      <th>2000-03-08</th>\n",
              "      <td>0.015227</td>\n",
              "      <td>0.014538</td>\n",
              "      <td>0.011304</td>\n",
              "      <td>-0.008313</td>\n",
              "      <td>-0.001204</td>\n",
              "      <td>0.006006</td>\n",
              "      <td>0.006744</td>\n",
              "      <td>-0.001467</td>\n",
              "      <td>-0.001467</td>\n",
              "      <td>-0.016221</td>\n",
              "      <td>-0.012778</td>\n",
              "      <td>NaN</td>\n",
              "      <td>0.004246</td>\n",
              "      <td>0.004000</td>\n",
              "      <td>NaN</td>\n",
              "    </tr>\n",
              "    <tr>\n",
              "      <th>...</th>\n",
              "      <td>...</td>\n",
              "      <td>...</td>\n",
              "      <td>...</td>\n",
              "      <td>...</td>\n",
              "      <td>...</td>\n",
              "      <td>...</td>\n",
              "      <td>...</td>\n",
              "      <td>...</td>\n",
              "      <td>...</td>\n",
              "      <td>...</td>\n",
              "      <td>...</td>\n",
              "      <td>...</td>\n",
              "      <td>...</td>\n",
              "      <td>...</td>\n",
              "      <td>...</td>\n",
              "    </tr>\n",
              "    <tr>\n",
              "      <th>2019-12-25</th>\n",
              "      <td>-0.003345</td>\n",
              "      <td>-0.003345</td>\n",
              "      <td>-0.003345</td>\n",
              "      <td>0.000480</td>\n",
              "      <td>-0.005502</td>\n",
              "      <td>-0.002830</td>\n",
              "      <td>-0.005446</td>\n",
              "      <td>0.000074</td>\n",
              "      <td>0.000068</td>\n",
              "      <td>0.000000</td>\n",
              "      <td>0.000073</td>\n",
              "      <td>-0.003345</td>\n",
              "      <td>-0.003345</td>\n",
              "      <td>-0.003311</td>\n",
              "      <td>-0.003345</td>\n",
              "    </tr>\n",
              "    <tr>\n",
              "      <th>2019-12-26</th>\n",
              "      <td>-0.010411</td>\n",
              "      <td>0.007841</td>\n",
              "      <td>0.001046</td>\n",
              "      <td>-0.006647</td>\n",
              "      <td>-0.001915</td>\n",
              "      <td>-0.001965</td>\n",
              "      <td>-0.004880</td>\n",
              "      <td>0.000797</td>\n",
              "      <td>0.000689</td>\n",
              "      <td>0.001394</td>\n",
              "      <td>0.000786</td>\n",
              "      <td>-0.003865</td>\n",
              "      <td>-0.003321</td>\n",
              "      <td>-0.003797</td>\n",
              "      <td>-0.003544</td>\n",
              "    </tr>\n",
              "    <tr>\n",
              "      <th>2019-12-27</th>\n",
              "      <td>0.003982</td>\n",
              "      <td>-0.000237</td>\n",
              "      <td>0.001814</td>\n",
              "      <td>0.010448</td>\n",
              "      <td>0.005838</td>\n",
              "      <td>0.009000</td>\n",
              "      <td>0.008623</td>\n",
              "      <td>0.001256</td>\n",
              "      <td>0.000906</td>\n",
              "      <td>0.001033</td>\n",
              "      <td>0.001997</td>\n",
              "      <td>0.003000</td>\n",
              "      <td>0.003529</td>\n",
              "      <td>0.003638</td>\n",
              "      <td>0.004274</td>\n",
              "    </tr>\n",
              "    <tr>\n",
              "      <th>2019-12-30</th>\n",
              "      <td>0.003347</td>\n",
              "      <td>0.003039</td>\n",
              "      <td>0.000641</td>\n",
              "      <td>0.000623</td>\n",
              "      <td>0.006321</td>\n",
              "      <td>0.006058</td>\n",
              "      <td>0.007955</td>\n",
              "      <td>0.001574</td>\n",
              "      <td>0.000989</td>\n",
              "      <td>0.001026</td>\n",
              "      <td>0.001693</td>\n",
              "      <td>0.006035</td>\n",
              "      <td>0.007205</td>\n",
              "      <td>0.004479</td>\n",
              "      <td>0.004878</td>\n",
              "    </tr>\n",
              "    <tr>\n",
              "      <th>2019-12-31</th>\n",
              "      <td>-0.000940</td>\n",
              "      <td>-0.001375</td>\n",
              "      <td>0.002960</td>\n",
              "      <td>0.001001</td>\n",
              "      <td>-0.001074</td>\n",
              "      <td>-0.004135</td>\n",
              "      <td>-0.002328</td>\n",
              "      <td>0.000083</td>\n",
              "      <td>0.000057</td>\n",
              "      <td>-0.000012</td>\n",
              "      <td>0.000065</td>\n",
              "      <td>-0.000183</td>\n",
              "      <td>0.000596</td>\n",
              "      <td>-0.000861</td>\n",
              "      <td>-0.001320</td>\n",
              "    </tr>\n",
              "  </tbody>\n",
              "</table>\n",
              "<p>5174 rows × 15 columns</p>\n",
              "</div>\n",
              "      <button class=\"colab-df-convert\" onclick=\"convertToInteractive('df-90a03309-c7af-4236-9e2b-e2f33d0b6e6c')\"\n",
              "              title=\"Convert this dataframe to an interactive table.\"\n",
              "              style=\"display:none;\">\n",
              "        \n",
              "  <svg xmlns=\"http://www.w3.org/2000/svg\" height=\"24px\"viewBox=\"0 0 24 24\"\n",
              "       width=\"24px\">\n",
              "    <path d=\"M0 0h24v24H0V0z\" fill=\"none\"/>\n",
              "    <path d=\"M18.56 5.44l.94 2.06.94-2.06 2.06-.94-2.06-.94-.94-2.06-.94 2.06-2.06.94zm-11 1L8.5 8.5l.94-2.06 2.06-.94-2.06-.94L8.5 2.5l-.94 2.06-2.06.94zm10 10l.94 2.06.94-2.06 2.06-.94-2.06-.94-.94-2.06-.94 2.06-2.06.94z\"/><path d=\"M17.41 7.96l-1.37-1.37c-.4-.4-.92-.59-1.43-.59-.52 0-1.04.2-1.43.59L10.3 9.45l-7.72 7.72c-.78.78-.78 2.05 0 2.83L4 21.41c.39.39.9.59 1.41.59.51 0 1.02-.2 1.41-.59l7.78-7.78 2.81-2.81c.8-.78.8-2.07 0-2.86zM5.41 20L4 18.59l7.72-7.72 1.47 1.35L5.41 20z\"/>\n",
              "  </svg>\n",
              "      </button>\n",
              "      \n",
              "  <style>\n",
              "    .colab-df-container {\n",
              "      display:flex;\n",
              "      flex-wrap:wrap;\n",
              "      gap: 12px;\n",
              "    }\n",
              "\n",
              "    .colab-df-convert {\n",
              "      background-color: #E8F0FE;\n",
              "      border: none;\n",
              "      border-radius: 50%;\n",
              "      cursor: pointer;\n",
              "      display: none;\n",
              "      fill: #1967D2;\n",
              "      height: 32px;\n",
              "      padding: 0 0 0 0;\n",
              "      width: 32px;\n",
              "    }\n",
              "\n",
              "    .colab-df-convert:hover {\n",
              "      background-color: #E2EBFA;\n",
              "      box-shadow: 0px 1px 2px rgba(60, 64, 67, 0.3), 0px 1px 3px 1px rgba(60, 64, 67, 0.15);\n",
              "      fill: #174EA6;\n",
              "    }\n",
              "\n",
              "    [theme=dark] .colab-df-convert {\n",
              "      background-color: #3B4455;\n",
              "      fill: #D2E3FC;\n",
              "    }\n",
              "\n",
              "    [theme=dark] .colab-df-convert:hover {\n",
              "      background-color: #434B5C;\n",
              "      box-shadow: 0px 1px 3px 1px rgba(0, 0, 0, 0.15);\n",
              "      filter: drop-shadow(0px 1px 2px rgba(0, 0, 0, 0.3));\n",
              "      fill: #FFFFFF;\n",
              "    }\n",
              "  </style>\n",
              "\n",
              "      <script>\n",
              "        const buttonEl =\n",
              "          document.querySelector('#df-90a03309-c7af-4236-9e2b-e2f33d0b6e6c button.colab-df-convert');\n",
              "        buttonEl.style.display =\n",
              "          google.colab.kernel.accessAllowed ? 'block' : 'none';\n",
              "\n",
              "        async function convertToInteractive(key) {\n",
              "          const element = document.querySelector('#df-90a03309-c7af-4236-9e2b-e2f33d0b6e6c');\n",
              "          const dataTable =\n",
              "            await google.colab.kernel.invokeFunction('convertToInteractive',\n",
              "                                                     [key], {});\n",
              "          if (!dataTable) return;\n",
              "\n",
              "          const docLinkHtml = 'Like what you see? Visit the ' +\n",
              "            '<a target=\"_blank\" href=https://colab.research.google.com/notebooks/data_table.ipynb>data table notebook</a>'\n",
              "            + ' to learn more about interactive tables.';\n",
              "          element.innerHTML = '';\n",
              "          dataTable['output_type'] = 'display_data';\n",
              "          await google.colab.output.renderOutput(dataTable, element);\n",
              "          const docLink = document.createElement('div');\n",
              "          docLink.innerHTML = docLinkHtml;\n",
              "          element.appendChild(docLink);\n",
              "        }\n",
              "      </script>\n",
              "    </div>\n",
              "  </div>\n",
              "  "
            ]
          },
          "metadata": {},
          "execution_count": 4
        }
      ]
    },
    {
      "cell_type": "code",
      "source": [
        "#df_log.to_excel('Retornos Logaritmicos.xlsx')"
      ],
      "metadata": {
        "id": "XUm3py7mX56J"
      },
      "execution_count": null,
      "outputs": []
    },
    {
      "cell_type": "markdown",
      "source": [
        "###1.2 Volatilidades Mensuales"
      ],
      "metadata": {
        "id": "VYJeD5y4hIiq"
      }
    },
    {
      "cell_type": "code",
      "source": [
        "volatilidades_diarias = {}\n",
        "for i in range(len(log_variables)):\n",
        "  volatilidades_diarias[log_variables[i]] = np.sqrt(statistics.variance(df_log[log_variables[i]].dropna()))\n",
        "df_vol_diarias = pd.DataFrame(data = volatilidades_diarias, index=[1])\n",
        "df_vol_diarias"
      ],
      "metadata": {
        "colab": {
          "base_uri": "https://localhost:8080/",
          "height": 142
        },
        "id": "A0R9rLCeYd7X",
        "outputId": "21f4ca60-d8bb-4e57-b32f-8be3639441a5"
      },
      "execution_count": null,
      "outputs": [
        {
          "output_type": "execute_result",
          "data": {
            "text/plain": [
              "   log_IPSA  log_Latam   log_USA  log_Europe  log_Asia Dev  log_Asia EM  \\\n",
              "1  0.010636   0.014907  0.011636    0.012091      0.012252     0.012828   \n",
              "\n",
              "   log_EMEA  log_CLP Dur < 5Y  log_UF Dur < 5Y  log_Gob Dur >5Y  \\\n",
              "1  0.013559          0.001404         0.001621         0.002709   \n",
              "\n",
              "   log_Corporativos Chile  log_Corporativos EM  log_Corporativos Dev HY  \\\n",
              "1                0.002251             0.006285                 0.006269   \n",
              "\n",
              "   log_Corporativos Dev IG  log_Treasury  \n",
              "1                 0.006649      0.007873  "
            ],
            "text/html": [
              "\n",
              "  <div id=\"df-b7619de9-123d-4e1e-b923-a71d8739a82b\">\n",
              "    <div class=\"colab-df-container\">\n",
              "      <div>\n",
              "<style scoped>\n",
              "    .dataframe tbody tr th:only-of-type {\n",
              "        vertical-align: middle;\n",
              "    }\n",
              "\n",
              "    .dataframe tbody tr th {\n",
              "        vertical-align: top;\n",
              "    }\n",
              "\n",
              "    .dataframe thead th {\n",
              "        text-align: right;\n",
              "    }\n",
              "</style>\n",
              "<table border=\"1\" class=\"dataframe\">\n",
              "  <thead>\n",
              "    <tr style=\"text-align: right;\">\n",
              "      <th></th>\n",
              "      <th>log_IPSA</th>\n",
              "      <th>log_Latam</th>\n",
              "      <th>log_USA</th>\n",
              "      <th>log_Europe</th>\n",
              "      <th>log_Asia Dev</th>\n",
              "      <th>log_Asia EM</th>\n",
              "      <th>log_EMEA</th>\n",
              "      <th>log_CLP Dur &lt; 5Y</th>\n",
              "      <th>log_UF Dur &lt; 5Y</th>\n",
              "      <th>log_Gob Dur &gt;5Y</th>\n",
              "      <th>log_Corporativos Chile</th>\n",
              "      <th>log_Corporativos EM</th>\n",
              "      <th>log_Corporativos Dev HY</th>\n",
              "      <th>log_Corporativos Dev IG</th>\n",
              "      <th>log_Treasury</th>\n",
              "    </tr>\n",
              "  </thead>\n",
              "  <tbody>\n",
              "    <tr>\n",
              "      <th>1</th>\n",
              "      <td>0.010636</td>\n",
              "      <td>0.014907</td>\n",
              "      <td>0.011636</td>\n",
              "      <td>0.012091</td>\n",
              "      <td>0.012252</td>\n",
              "      <td>0.012828</td>\n",
              "      <td>0.013559</td>\n",
              "      <td>0.001404</td>\n",
              "      <td>0.001621</td>\n",
              "      <td>0.002709</td>\n",
              "      <td>0.002251</td>\n",
              "      <td>0.006285</td>\n",
              "      <td>0.006269</td>\n",
              "      <td>0.006649</td>\n",
              "      <td>0.007873</td>\n",
              "    </tr>\n",
              "  </tbody>\n",
              "</table>\n",
              "</div>\n",
              "      <button class=\"colab-df-convert\" onclick=\"convertToInteractive('df-b7619de9-123d-4e1e-b923-a71d8739a82b')\"\n",
              "              title=\"Convert this dataframe to an interactive table.\"\n",
              "              style=\"display:none;\">\n",
              "        \n",
              "  <svg xmlns=\"http://www.w3.org/2000/svg\" height=\"24px\"viewBox=\"0 0 24 24\"\n",
              "       width=\"24px\">\n",
              "    <path d=\"M0 0h24v24H0V0z\" fill=\"none\"/>\n",
              "    <path d=\"M18.56 5.44l.94 2.06.94-2.06 2.06-.94-2.06-.94-.94-2.06-.94 2.06-2.06.94zm-11 1L8.5 8.5l.94-2.06 2.06-.94-2.06-.94L8.5 2.5l-.94 2.06-2.06.94zm10 10l.94 2.06.94-2.06 2.06-.94-2.06-.94-.94-2.06-.94 2.06-2.06.94z\"/><path d=\"M17.41 7.96l-1.37-1.37c-.4-.4-.92-.59-1.43-.59-.52 0-1.04.2-1.43.59L10.3 9.45l-7.72 7.72c-.78.78-.78 2.05 0 2.83L4 21.41c.39.39.9.59 1.41.59.51 0 1.02-.2 1.41-.59l7.78-7.78 2.81-2.81c.8-.78.8-2.07 0-2.86zM5.41 20L4 18.59l7.72-7.72 1.47 1.35L5.41 20z\"/>\n",
              "  </svg>\n",
              "      </button>\n",
              "      \n",
              "  <style>\n",
              "    .colab-df-container {\n",
              "      display:flex;\n",
              "      flex-wrap:wrap;\n",
              "      gap: 12px;\n",
              "    }\n",
              "\n",
              "    .colab-df-convert {\n",
              "      background-color: #E8F0FE;\n",
              "      border: none;\n",
              "      border-radius: 50%;\n",
              "      cursor: pointer;\n",
              "      display: none;\n",
              "      fill: #1967D2;\n",
              "      height: 32px;\n",
              "      padding: 0 0 0 0;\n",
              "      width: 32px;\n",
              "    }\n",
              "\n",
              "    .colab-df-convert:hover {\n",
              "      background-color: #E2EBFA;\n",
              "      box-shadow: 0px 1px 2px rgba(60, 64, 67, 0.3), 0px 1px 3px 1px rgba(60, 64, 67, 0.15);\n",
              "      fill: #174EA6;\n",
              "    }\n",
              "\n",
              "    [theme=dark] .colab-df-convert {\n",
              "      background-color: #3B4455;\n",
              "      fill: #D2E3FC;\n",
              "    }\n",
              "\n",
              "    [theme=dark] .colab-df-convert:hover {\n",
              "      background-color: #434B5C;\n",
              "      box-shadow: 0px 1px 3px 1px rgba(0, 0, 0, 0.15);\n",
              "      filter: drop-shadow(0px 1px 2px rgba(0, 0, 0, 0.3));\n",
              "      fill: #FFFFFF;\n",
              "    }\n",
              "  </style>\n",
              "\n",
              "      <script>\n",
              "        const buttonEl =\n",
              "          document.querySelector('#df-b7619de9-123d-4e1e-b923-a71d8739a82b button.colab-df-convert');\n",
              "        buttonEl.style.display =\n",
              "          google.colab.kernel.accessAllowed ? 'block' : 'none';\n",
              "\n",
              "        async function convertToInteractive(key) {\n",
              "          const element = document.querySelector('#df-b7619de9-123d-4e1e-b923-a71d8739a82b');\n",
              "          const dataTable =\n",
              "            await google.colab.kernel.invokeFunction('convertToInteractive',\n",
              "                                                     [key], {});\n",
              "          if (!dataTable) return;\n",
              "\n",
              "          const docLinkHtml = 'Like what you see? Visit the ' +\n",
              "            '<a target=\"_blank\" href=https://colab.research.google.com/notebooks/data_table.ipynb>data table notebook</a>'\n",
              "            + ' to learn more about interactive tables.';\n",
              "          element.innerHTML = '';\n",
              "          dataTable['output_type'] = 'display_data';\n",
              "          await google.colab.output.renderOutput(dataTable, element);\n",
              "          const docLink = document.createElement('div');\n",
              "          docLink.innerHTML = docLinkHtml;\n",
              "          element.appendChild(docLink);\n",
              "        }\n",
              "      </script>\n",
              "    </div>\n",
              "  </div>\n",
              "  "
            ]
          },
          "metadata": {},
          "execution_count": 6
        }
      ]
    },
    {
      "cell_type": "code",
      "source": [
        "volatilidades_mensuales = {}\n",
        "\n",
        "for i in range(len(log_variables)):\n",
        "  volatilidades_mensuales[log_variables[i]] = volatilidades_diarias[log_variables[i]]*np.sqrt(22)\n",
        "df_vol_mensuales = pd.DataFrame(data = volatilidades_mensuales, index=[1])\n",
        "df_vol_mensuales"
      ],
      "metadata": {
        "colab": {
          "base_uri": "https://localhost:8080/",
          "height": 142
        },
        "id": "AiFhANbcYgHN",
        "outputId": "da56907c-d6d0-46cf-e0c3-60014b72a224"
      },
      "execution_count": null,
      "outputs": [
        {
          "output_type": "execute_result",
          "data": {
            "text/plain": [
              "   log_IPSA  log_Latam   log_USA  log_Europe  log_Asia Dev  log_Asia EM  \\\n",
              "1  0.049885   0.069918  0.054578     0.05671      0.057469      0.06017   \n",
              "\n",
              "   log_EMEA  log_CLP Dur < 5Y  log_UF Dur < 5Y  log_Gob Dur >5Y  \\\n",
              "1  0.063598          0.006586         0.007601         0.012706   \n",
              "\n",
              "   log_Corporativos Chile  log_Corporativos EM  log_Corporativos Dev HY  \\\n",
              "1                0.010559              0.02948                 0.029406   \n",
              "\n",
              "   log_Corporativos Dev IG  log_Treasury  \n",
              "1                 0.031188      0.036929  "
            ],
            "text/html": [
              "\n",
              "  <div id=\"df-7c352e32-4398-4aaf-b20b-46b68f8e202c\">\n",
              "    <div class=\"colab-df-container\">\n",
              "      <div>\n",
              "<style scoped>\n",
              "    .dataframe tbody tr th:only-of-type {\n",
              "        vertical-align: middle;\n",
              "    }\n",
              "\n",
              "    .dataframe tbody tr th {\n",
              "        vertical-align: top;\n",
              "    }\n",
              "\n",
              "    .dataframe thead th {\n",
              "        text-align: right;\n",
              "    }\n",
              "</style>\n",
              "<table border=\"1\" class=\"dataframe\">\n",
              "  <thead>\n",
              "    <tr style=\"text-align: right;\">\n",
              "      <th></th>\n",
              "      <th>log_IPSA</th>\n",
              "      <th>log_Latam</th>\n",
              "      <th>log_USA</th>\n",
              "      <th>log_Europe</th>\n",
              "      <th>log_Asia Dev</th>\n",
              "      <th>log_Asia EM</th>\n",
              "      <th>log_EMEA</th>\n",
              "      <th>log_CLP Dur &lt; 5Y</th>\n",
              "      <th>log_UF Dur &lt; 5Y</th>\n",
              "      <th>log_Gob Dur &gt;5Y</th>\n",
              "      <th>log_Corporativos Chile</th>\n",
              "      <th>log_Corporativos EM</th>\n",
              "      <th>log_Corporativos Dev HY</th>\n",
              "      <th>log_Corporativos Dev IG</th>\n",
              "      <th>log_Treasury</th>\n",
              "    </tr>\n",
              "  </thead>\n",
              "  <tbody>\n",
              "    <tr>\n",
              "      <th>1</th>\n",
              "      <td>0.049885</td>\n",
              "      <td>0.069918</td>\n",
              "      <td>0.054578</td>\n",
              "      <td>0.05671</td>\n",
              "      <td>0.057469</td>\n",
              "      <td>0.06017</td>\n",
              "      <td>0.063598</td>\n",
              "      <td>0.006586</td>\n",
              "      <td>0.007601</td>\n",
              "      <td>0.012706</td>\n",
              "      <td>0.010559</td>\n",
              "      <td>0.02948</td>\n",
              "      <td>0.029406</td>\n",
              "      <td>0.031188</td>\n",
              "      <td>0.036929</td>\n",
              "    </tr>\n",
              "  </tbody>\n",
              "</table>\n",
              "</div>\n",
              "      <button class=\"colab-df-convert\" onclick=\"convertToInteractive('df-7c352e32-4398-4aaf-b20b-46b68f8e202c')\"\n",
              "              title=\"Convert this dataframe to an interactive table.\"\n",
              "              style=\"display:none;\">\n",
              "        \n",
              "  <svg xmlns=\"http://www.w3.org/2000/svg\" height=\"24px\"viewBox=\"0 0 24 24\"\n",
              "       width=\"24px\">\n",
              "    <path d=\"M0 0h24v24H0V0z\" fill=\"none\"/>\n",
              "    <path d=\"M18.56 5.44l.94 2.06.94-2.06 2.06-.94-2.06-.94-.94-2.06-.94 2.06-2.06.94zm-11 1L8.5 8.5l.94-2.06 2.06-.94-2.06-.94L8.5 2.5l-.94 2.06-2.06.94zm10 10l.94 2.06.94-2.06 2.06-.94-2.06-.94-.94-2.06-.94 2.06-2.06.94z\"/><path d=\"M17.41 7.96l-1.37-1.37c-.4-.4-.92-.59-1.43-.59-.52 0-1.04.2-1.43.59L10.3 9.45l-7.72 7.72c-.78.78-.78 2.05 0 2.83L4 21.41c.39.39.9.59 1.41.59.51 0 1.02-.2 1.41-.59l7.78-7.78 2.81-2.81c.8-.78.8-2.07 0-2.86zM5.41 20L4 18.59l7.72-7.72 1.47 1.35L5.41 20z\"/>\n",
              "  </svg>\n",
              "      </button>\n",
              "      \n",
              "  <style>\n",
              "    .colab-df-container {\n",
              "      display:flex;\n",
              "      flex-wrap:wrap;\n",
              "      gap: 12px;\n",
              "    }\n",
              "\n",
              "    .colab-df-convert {\n",
              "      background-color: #E8F0FE;\n",
              "      border: none;\n",
              "      border-radius: 50%;\n",
              "      cursor: pointer;\n",
              "      display: none;\n",
              "      fill: #1967D2;\n",
              "      height: 32px;\n",
              "      padding: 0 0 0 0;\n",
              "      width: 32px;\n",
              "    }\n",
              "\n",
              "    .colab-df-convert:hover {\n",
              "      background-color: #E2EBFA;\n",
              "      box-shadow: 0px 1px 2px rgba(60, 64, 67, 0.3), 0px 1px 3px 1px rgba(60, 64, 67, 0.15);\n",
              "      fill: #174EA6;\n",
              "    }\n",
              "\n",
              "    [theme=dark] .colab-df-convert {\n",
              "      background-color: #3B4455;\n",
              "      fill: #D2E3FC;\n",
              "    }\n",
              "\n",
              "    [theme=dark] .colab-df-convert:hover {\n",
              "      background-color: #434B5C;\n",
              "      box-shadow: 0px 1px 3px 1px rgba(0, 0, 0, 0.15);\n",
              "      filter: drop-shadow(0px 1px 2px rgba(0, 0, 0, 0.3));\n",
              "      fill: #FFFFFF;\n",
              "    }\n",
              "  </style>\n",
              "\n",
              "      <script>\n",
              "        const buttonEl =\n",
              "          document.querySelector('#df-7c352e32-4398-4aaf-b20b-46b68f8e202c button.colab-df-convert');\n",
              "        buttonEl.style.display =\n",
              "          google.colab.kernel.accessAllowed ? 'block' : 'none';\n",
              "\n",
              "        async function convertToInteractive(key) {\n",
              "          const element = document.querySelector('#df-7c352e32-4398-4aaf-b20b-46b68f8e202c');\n",
              "          const dataTable =\n",
              "            await google.colab.kernel.invokeFunction('convertToInteractive',\n",
              "                                                     [key], {});\n",
              "          if (!dataTable) return;\n",
              "\n",
              "          const docLinkHtml = 'Like what you see? Visit the ' +\n",
              "            '<a target=\"_blank\" href=https://colab.research.google.com/notebooks/data_table.ipynb>data table notebook</a>'\n",
              "            + ' to learn more about interactive tables.';\n",
              "          element.innerHTML = '';\n",
              "          dataTable['output_type'] = 'display_data';\n",
              "          await google.colab.output.renderOutput(dataTable, element);\n",
              "          const docLink = document.createElement('div');\n",
              "          docLink.innerHTML = docLinkHtml;\n",
              "          element.appendChild(docLink);\n",
              "        }\n",
              "      </script>\n",
              "    </div>\n",
              "  </div>\n",
              "  "
            ]
          },
          "metadata": {},
          "execution_count": 7
        }
      ]
    },
    {
      "cell_type": "code",
      "source": [
        "#volatilidades_anuales = {}\n",
        "\n",
        "#for i in range(len(log_variables)):\n",
        "# volatilidades_anuales[log_variables[i]] = volatilidades_diarias[log_variables[i]]*np.sqrt(252)\n",
        "#df_vol_anuales = pd.DataFrame(data = volatilidades_anuales, index=[1])\n",
        "#df_vol_anuales"
      ],
      "metadata": {
        "id": "OXkY6cE8Z65z"
      },
      "execution_count": null,
      "outputs": []
    },
    {
      "cell_type": "code",
      "source": [
        "#df_vol_diarias.to_excel('Volatilidades Diarias.xlsx')\n",
        "#df_vol_mensuales.to_excel('Volatilidades Mensuales.xlsx')\n",
        "#df_vol_anuales.to_excel('Volatilidades Anuales.xlsx')"
      ],
      "metadata": {
        "id": "QUH5bzheVGYq"
      },
      "execution_count": null,
      "outputs": []
    },
    {
      "cell_type": "markdown",
      "source": [
        "\n",
        "###1.2 Correlaciones"
      ],
      "metadata": {
        "id": "ClCXgHN2IDNq"
      }
    },
    {
      "cell_type": "code",
      "source": [
        "corr = df_log.corr()\n",
        "plt.figure(figsize=(14,12))\n",
        "mask = np.triu(np.ones_like(corr, dtype=bool))\n",
        "sns.heatmap(corr,mask=mask, xticklabels= corr.columns.values, yticklabels= corr.columns.values, annot=True)"
      ],
      "metadata": {
        "id": "NjfupozYbGhV",
        "colab": {
          "base_uri": "https://localhost:8080/",
          "height": 830
        },
        "outputId": "0776758c-a82e-4278-fdc2-0befe51fd05f"
      },
      "execution_count": null,
      "outputs": [
        {
          "output_type": "execute_result",
          "data": {
            "text/plain": [
              "<matplotlib.axes._subplots.AxesSubplot at 0x7f9e935fe650>"
            ]
          },
          "metadata": {},
          "execution_count": 10
        },
        {
          "output_type": "display_data",
          "data": {
            "text/plain": [
              "<Figure size 1008x864 with 2 Axes>"
            ],
            "image/png": "[encoded data removed]"
          },
          "metadata": {
            "needs_background": "light"
          }
        }
      ]
    },
    {
      "cell_type": "markdown",
      "source": [
        "### 1.3 Retornos Esperados Mensuales y Anuales"
      ],
      "metadata": {
        "id": "cddYIO1PhL0Z"
      }
    },
    {
      "cell_type": "code",
      "source": [
        "retornos_mensuales = {}\n",
        "\n",
        "for i in range(len(log_variables)):\n",
        "  retornos_mensuales[log_variables[i]] = df_log[log_variables[i]].mean()*22\n",
        "df_ret_mensuales = pd.DataFrame(data = retornos_mensuales , index=[1])\n",
        "df_ret_mensuales"
      ],
      "metadata": {
        "colab": {
          "base_uri": "https://localhost:8080/",
          "height": 234
        },
        "id": "mEYmfYt0Z6oI",
        "outputId": "3c9a16c2-f3e8-4217-8ae6-c71d8038e94b"
      },
      "execution_count": null,
      "outputs": [
        {
          "output_type": "error",
          "ename": "NameError",
          "evalue": "ignored",
          "traceback": [
            "\u001b[0;31m---------------------------------------------------------------------------\u001b[0m",
            "\u001b[0;31mNameError\u001b[0m                                 Traceback (most recent call last)",
            "\u001b[0;32m<ipython-input-1-0319691bc325>\u001b[0m in \u001b[0;36m<module>\u001b[0;34m()\u001b[0m\n\u001b[1;32m      1\u001b[0m \u001b[0mretornos_mensuales\u001b[0m \u001b[0;34m=\u001b[0m \u001b[0;34m{\u001b[0m\u001b[0;34m}\u001b[0m\u001b[0;34m\u001b[0m\u001b[0;34m\u001b[0m\u001b[0m\n\u001b[1;32m      2\u001b[0m \u001b[0;34m\u001b[0m\u001b[0m\n\u001b[0;32m----> 3\u001b[0;31m \u001b[0;32mfor\u001b[0m \u001b[0mi\u001b[0m \u001b[0;32min\u001b[0m \u001b[0mrange\u001b[0m\u001b[0;34m(\u001b[0m\u001b[0mlen\u001b[0m\u001b[0;34m(\u001b[0m\u001b[0mlog_variables\u001b[0m\u001b[0;34m)\u001b[0m\u001b[0;34m)\u001b[0m\u001b[0;34m:\u001b[0m\u001b[0;34m\u001b[0m\u001b[0;34m\u001b[0m\u001b[0m\n\u001b[0m\u001b[1;32m      4\u001b[0m   \u001b[0mretornos_mensuales\u001b[0m\u001b[0;34m[\u001b[0m\u001b[0mlog_variables\u001b[0m\u001b[0;34m[\u001b[0m\u001b[0mi\u001b[0m\u001b[0;34m]\u001b[0m\u001b[0;34m]\u001b[0m \u001b[0;34m=\u001b[0m \u001b[0mdf_log\u001b[0m\u001b[0;34m[\u001b[0m\u001b[0mlog_variables\u001b[0m\u001b[0;34m[\u001b[0m\u001b[0mi\u001b[0m\u001b[0;34m]\u001b[0m\u001b[0;34m]\u001b[0m\u001b[0;34m.\u001b[0m\u001b[0mmean\u001b[0m\u001b[0;34m(\u001b[0m\u001b[0;34m)\u001b[0m\u001b[0;34m*\u001b[0m\u001b[0;36m22\u001b[0m\u001b[0;34m\u001b[0m\u001b[0;34m\u001b[0m\u001b[0m\n\u001b[1;32m      5\u001b[0m \u001b[0mdf_ret_mensuales\u001b[0m \u001b[0;34m=\u001b[0m \u001b[0mpd\u001b[0m\u001b[0;34m.\u001b[0m\u001b[0mDataFrame\u001b[0m\u001b[0;34m(\u001b[0m\u001b[0mdata\u001b[0m \u001b[0;34m=\u001b[0m \u001b[0mretornos_mensuales\u001b[0m \u001b[0;34m,\u001b[0m \u001b[0mindex\u001b[0m\u001b[0;34m=\u001b[0m\u001b[0;34m[\u001b[0m\u001b[0;36m1\u001b[0m\u001b[0;34m]\u001b[0m\u001b[0;34m)\u001b[0m\u001b[0;34m\u001b[0m\u001b[0;34m\u001b[0m\u001b[0m\n",
            "\u001b[0;31mNameError\u001b[0m: name 'log_variables' is not defined"
          ]
        }
      ]
    },
    {
      "cell_type": "code",
      "source": [
        "retornos_anuales = {}\n",
        "\n",
        "for i in range(len(log_variables)):\n",
        "  retornos_anuales[log_variables[i]] = df_log[log_variables[i]].mean()*252\n",
        "df_ret_anuales = pd.DataFrame(data = retornos_anuales , index=[1])\n",
        "df_ret_anuales"
      ],
      "metadata": {
        "id": "6R7rG-_baZZ8"
      },
      "execution_count": null,
      "outputs": []
    },
    {
      "cell_type": "code",
      "source": [
        "#df_ret_mensuales.to_excel('Retornos Mensuales.xlsx')\n",
        "#df_ret_anuales.to_excel('Retornos Anuales.xlsx')"
      ],
      "metadata": {
        "id": "yjcR98ZAVX-v"
      },
      "execution_count": null,
      "outputs": []
    },
    {
      "cell_type": "markdown",
      "source": [
        "##Parte 2:"
      ],
      "metadata": {
        "id": "eilp74IOO_gV"
      }
    },
    {
      "cell_type": "markdown",
      "source": [
        "### 2.4 Perfil de Inversión "
      ],
      "metadata": {
        "id": "3IQhtTdtJRWc"
      }
    },
    {
      "cell_type": "markdown",
      "source": [
        "**Plantear un portafolio de inversión, considerando activos con menor correlación y con más historia (que no tengan datos nulos)**"
      ],
      "metadata": {
        "id": "F_OSy1ULUVrA"
      }
    },
    {
      "cell_type": "code",
      "source": [
        "df_log.isna().sum()"
      ],
      "metadata": {
        "colab": {
          "base_uri": "https://localhost:8080/"
        },
        "id": "z5VmoizCVwg7",
        "outputId": "f5e6cde3-8b36-4e26-9df0-c7f1eb26933e"
      },
      "execution_count": null,
      "outputs": [
        {
          "output_type": "execute_result",
          "data": {
            "text/plain": [
              "log_IPSA                      0\n",
              "log_Latam                     0\n",
              "log_USA                       0\n",
              "log_Europe                    0\n",
              "log_Asia Dev                  0\n",
              "log_Asia EM                   0\n",
              "log_EMEA                      0\n",
              "log_CLP Dur < 5Y              0\n",
              "log_UF Dur < 5Y               0\n",
              "log_Gob Dur >5Y               0\n",
              "log_Corporativos Chile        0\n",
              "log_Corporativos EM         478\n",
              "log_Corporativos Dev HY       0\n",
              "log_Corporativos Dev IG       0\n",
              "log_Treasury               1262\n",
              "dtype: int64"
            ]
          },
          "metadata": {},
          "execution_count": 14
        }
      ]
    },
    {
      "cell_type": "code",
      "source": [
        "df_log.columns"
      ],
      "metadata": {
        "colab": {
          "base_uri": "https://localhost:8080/"
        },
        "id": "16IqK1g5V3CY",
        "outputId": "16551990-73c4-47f4-9b6b-dff8fc5fca97"
      },
      "execution_count": null,
      "outputs": [
        {
          "output_type": "execute_result",
          "data": {
            "text/plain": [
              "Index(['log_IPSA', 'log_Latam', 'log_USA', 'log_Europe', 'log_Asia Dev',\n",
              "       'log_Asia EM', 'log_EMEA', 'log_CLP Dur < 5Y', 'log_UF Dur < 5Y',\n",
              "       'log_Gob Dur >5Y', 'log_Corporativos Chile', 'log_Corporativos EM',\n",
              "       'log_Corporativos Dev HY', 'log_Corporativos Dev IG', 'log_Treasury'],\n",
              "      dtype='object')"
            ]
          },
          "metadata": {},
          "execution_count": 15
        }
      ]
    },
    {
      "cell_type": "code",
      "source": [
        "indices = ['log_IPSA', 'log_Latam', 'log_USA', 'log_Europe', 'log_Asia Dev',\n",
        "       'log_Asia EM', 'log_EMEA', 'log_CLP Dur < 5Y', 'log_UF Dur < 5Y',\n",
        "       'log_Gob Dur >5Y', 'log_Corporativos Chile',\n",
        "       'log_Corporativos Dev HY', 'log_Corporativos Dev IG']"
      ],
      "metadata": {
        "id": "2xZ4auNuV0fQ"
      },
      "execution_count": null,
      "outputs": []
    },
    {
      "cell_type": "code",
      "source": [
        "corr = df_log[indices].corr()\n",
        "plt.figure(figsize=(14,12))\n",
        "mask = np.triu(np.ones_like(corr, dtype=bool))\n",
        "sns.heatmap(corr,mask=mask, xticklabels= corr.columns.values, yticklabels= corr.columns.values, annot=True)"
      ],
      "metadata": {
        "colab": {
          "base_uri": "https://localhost:8080/",
          "height": 830
        },
        "id": "TP_e8dMmWCra",
        "outputId": "35768568-8dfa-49e4-ff32-c86eb507d5e3"
      },
      "execution_count": null,
      "outputs": [
        {
          "output_type": "execute_result",
          "data": {
            "text/plain": [
              "<matplotlib.axes._subplots.AxesSubplot at 0x7f9e925e67d0>"
            ]
          },
          "metadata": {},
          "execution_count": 17
        },
        {
          "output_type": "display_data",
          "data": {
            "text/plain": [
              "<Figure size 1008x864 with 2 Axes>"
            ],
            "image/png": "[encoded data removed]"
          },
          "metadata": {
            "needs_background": "light"
          }
        }
      ]
    },
    {
      "cell_type": "markdown",
      "source": [
        "Los indices a invertir son: "
      ],
      "metadata": {
        "id": "FMU0NW_zUSVt"
      }
    },
    {
      "cell_type": "code",
      "source": [
        "indices = ['log_IPSA', 'log_USA', 'log_Europe', 'log_Asia Dev',\n",
        "       'log_Asia EM','log_UF Dur < 5Y', \n",
        "       'log_Corporativos Dev HY']"
      ],
      "metadata": {
        "id": "wLx6l2ChWbKp"
      },
      "execution_count": null,
      "outputs": []
    },
    {
      "cell_type": "markdown",
      "source": [
        "### 2.4 Mínima Varianza sin Venta Corta"
      ],
      "metadata": {
        "id": "Aiil9sibhgXh"
      }
    },
    {
      "cell_type": "code",
      "source": [
        "pip install PyPortfolioOpt"
      ],
      "metadata": {
        "colab": {
          "base_uri": "https://localhost:8080/"
        },
        "id": "l2KlY7yIe2-c",
        "outputId": "dd8b639b-ff26-4f37-daad-d525380bb544"
      },
      "execution_count": null,
      "outputs": [
        {
          "output_type": "stream",
          "name": "stdout",
          "text": [
            "Collecting PyPortfolioOpt\n",
            "  Downloading pyportfolioopt-1.5.2-py3-none-any.whl (61 kB)\n",
            "\u001b[?25l\r\u001b[K     |█████▍                          | 10 kB 19.4 MB/s eta 0:00:01\r\u001b[K     |██████████▊                     | 20 kB 18.8 MB/s eta 0:00:01\r\u001b[K     |████████████████                | 30 kB 7.7 MB/s eta 0:00:01\r\u001b[K     |█████████████████████▍          | 40 kB 6.3 MB/s eta 0:00:01\r\u001b[K     |██████████████████████████▊     | 51 kB 5.5 MB/s eta 0:00:01\r\u001b[K     |████████████████████████████████| 61 kB 3.3 MB/s \n",
            "\u001b[?25hCollecting cvxpy<2.0.0,>=1.1.10\n",
            "  Downloading cvxpy-1.2.0-cp37-cp37m-manylinux_2_24_x86_64.whl (2.8 MB)\n",
            "\u001b[K     |████████████████████████████████| 2.8 MB 7.0 MB/s \n",
            "\u001b[?25hRequirement already satisfied: pandas>=0.19 in /usr/local/lib/python3.7/dist-packages (from PyPortfolioOpt) (1.3.5)\n",
            "Requirement already satisfied: numpy<2.0,>=1.12 in /usr/local/lib/python3.7/dist-packages (from PyPortfolioOpt) (1.21.6)\n",
            "Requirement already satisfied: scipy<2.0,>=1.3 in /usr/local/lib/python3.7/dist-packages (from PyPortfolioOpt) (1.4.1)\n",
            "Requirement already satisfied: scs>=1.1.6 in /usr/local/lib/python3.7/dist-packages (from cvxpy<2.0.0,>=1.1.10->PyPortfolioOpt) (3.2.0)\n",
            "Requirement already satisfied: osqp>=0.4.1 in /usr/local/lib/python3.7/dist-packages (from cvxpy<2.0.0,>=1.1.10->PyPortfolioOpt) (0.6.2.post0)\n",
            "Requirement already satisfied: ecos>=2 in /usr/local/lib/python3.7/dist-packages (from cvxpy<2.0.0,>=1.1.10->PyPortfolioOpt) (2.0.10)\n",
            "Requirement already satisfied: qdldl in /usr/local/lib/python3.7/dist-packages (from osqp>=0.4.1->cvxpy<2.0.0,>=1.1.10->PyPortfolioOpt) (0.1.5.post2)\n",
            "Requirement already satisfied: python-dateutil>=2.7.3 in /usr/local/lib/python3.7/dist-packages (from pandas>=0.19->PyPortfolioOpt) (2.8.2)\n",
            "Requirement already satisfied: pytz>=2017.3 in /usr/local/lib/python3.7/dist-packages (from pandas>=0.19->PyPortfolioOpt) (2022.1)\n",
            "Requirement already satisfied: six>=1.5 in /usr/local/lib/python3.7/dist-packages (from python-dateutil>=2.7.3->pandas>=0.19->PyPortfolioOpt) (1.15.0)\n",
            "Installing collected packages: cvxpy, PyPortfolioOpt\n",
            "  Attempting uninstall: cvxpy\n",
            "    Found existing installation: cvxpy 1.0.31\n",
            "    Uninstalling cvxpy-1.0.31:\n",
            "      Successfully uninstalled cvxpy-1.0.31\n",
            "Successfully installed PyPortfolioOpt-1.5.2 cvxpy-1.2.0\n"
          ]
        }
      ]
    },
    {
      "cell_type": "code",
      "source": [
        "from pypfopt.efficient_frontier import EfficientFrontier\n",
        "from pypfopt import risk_models\n",
        "from pypfopt import expected_returns\n",
        "from pypfopt import plotting"
      ],
      "metadata": {
        "id": "unB7ChGjeyru"
      },
      "execution_count": null,
      "outputs": []
    },
    {
      "cell_type": "code",
      "source": [
        "cov_portafolio = portafolio.cov()*252\n",
        "r_anuales = portafolio.mean()*252"
      ],
      "metadata": {
        "id": "VHirctUBp0Vi"
      },
      "execution_count": null,
      "outputs": []
    },
    {
      "cell_type": "code",
      "source": [
        "#df_r_anuales = portafolio.mean()*252\n",
        "#portafolio.to_excel('Portafolio.xlsx')\n",
        "#cov_portafolio.to_excel('Covarianzas Portafolio.xlsx')\n",
        "#df_r_anuales.to_excel('Retornos Anuales.xlsx')"
      ],
      "metadata": {
        "id": "2SSj4ugXeMY1"
      },
      "execution_count": null,
      "outputs": []
    },
    {
      "cell_type": "code",
      "source": [
        "ef = EfficientFrontier(r_anuales, cov_portafolio,weight_bounds=(0,1))\n",
        "weights = ef.min_volatility() \n",
        "cleaned_weights = ef.clean_weights() \n",
        "print(cleaned_weights) \n",
        "ef.portfolio_performance(verbose=True)"
      ],
      "metadata": {
        "colab": {
          "base_uri": "https://localhost:8080/"
        },
        "id": "DSC9D2xPfQiO",
        "outputId": "fa3f3db7-60e9-4487-a5e9-7b9676525f01"
      },
      "execution_count": null,
      "outputs": [
        {
          "output_type": "stream",
          "name": "stdout",
          "text": [
            "OrderedDict([('log_IPSA', 0.01877), ('log_USA', 0.00306), ('log_Europe', 0.00474), ('log_Asia Dev', 0.0), ('log_Asia EM', 0.0), ('log_UF Dur < 5Y', 0.90825), ('log_Corporativos Dev HY', 0.06518)])\n",
            "Expected annual return: 6.5%\n",
            "Annual volatility: 2.4%\n",
            "Sharpe Ratio: 1.84\n"
          ]
        },
        {
          "output_type": "execute_result",
          "data": {
            "text/plain": [
              "(0.0647253464718309, 0.02431506151379246, 1.839409143442262)"
            ]
          },
          "metadata": {},
          "execution_count": 28
        }
      ]
    },
    {
      "cell_type": "markdown",
      "source": [
        "###2.5 Correcciones y Mejoras FALTA"
      ],
      "metadata": {
        "id": "VUC4z3f6cXcy"
      }
    },
    {
      "cell_type": "markdown",
      "source": [
        "**Se pueden agregar índices al portafolio, tomar datos más actuales, quitar índices, etc, elgir una y ver qué pasa**"
      ],
      "metadata": {
        "id": "gtRodS1zFVhZ"
      }
    },
    {
      "cell_type": "markdown",
      "source": [
        "###2.6 Método 2: Target Risk"
      ],
      "metadata": {
        "id": "JvI1DQMUcJ8J"
      }
    },
    {
      "cell_type": "code",
      "source": [
        "ef = EfficientFrontier(r_anuales, cov_portafolio,weight_bounds=(-1,1))\n",
        "weights = ef.efficient_risk(0.05) \n",
        "cleaned_weights = ef.clean_weights() \n",
        "print(cleaned_weights) \n",
        "ef.portfolio_performance(verbose=True)"
      ],
      "metadata": {
        "colab": {
          "base_uri": "https://localhost:8080/"
        },
        "id": "e589P9Lvx6qg",
        "outputId": "1acaea9b-f202-4b75-be88-a6dd4237ebf9"
      },
      "execution_count": null,
      "outputs": [
        {
          "output_type": "stream",
          "name": "stdout",
          "text": [
            "OrderedDict([('log_IPSA', 0.06965), ('log_USA', 0.0454), ('log_Europe', -0.08886), ('log_Asia Dev', -0.22832), ('log_Asia EM', 0.16581), ('log_UF Dur < 5Y', 0.66787), ('log_Corporativos Dev HY', 0.36846)])\n",
            "Expected annual return: 7.6%\n",
            "Annual volatility: 5.0%\n",
            "Sharpe Ratio: 1.12\n"
          ]
        },
        {
          "output_type": "execute_result",
          "data": {
            "text/plain": [
              "(0.07579794983378085, 0.05000000005488608, 1.1159589954506048)"
            ]
          },
          "metadata": {},
          "execution_count": 29
        }
      ]
    },
    {
      "cell_type": "markdown",
      "source": [
        "###2.7 Mínima Varianza con Venta Corta"
      ],
      "metadata": {
        "id": "6m_hdtVLKU16"
      }
    },
    {
      "cell_type": "code",
      "source": [
        "ef = EfficientFrontier(r_anuales, cov_portafolio,weight_bounds=(-1,1))\n",
        "weights = ef.min_volatility() \n",
        "cleaned_weights = ef.clean_weights() \n",
        "print(cleaned_weights) \n",
        "ef.portfolio_performance(verbose=True)"
      ],
      "metadata": {
        "id": "RIxSHZ8WLBhq",
        "colab": {
          "base_uri": "https://localhost:8080/"
        },
        "outputId": "cfb8989e-d4a2-4463-838c-0bf8f972ad5f"
      },
      "execution_count": null,
      "outputs": [
        {
          "output_type": "stream",
          "name": "stdout",
          "text": [
            "OrderedDict([('log_IPSA', 0.01945), ('log_USA', 0.00289), ('log_Europe', 0.00547), ('log_Asia Dev', 0.0002), ('log_Asia EM', -0.00315), ('log_UF Dur < 5Y', 0.9079), ('log_Corporativos Dev HY', 0.06725)])\n",
            "Expected annual return: 6.5%\n",
            "Annual volatility: 2.4%\n",
            "Sharpe Ratio: 1.84\n"
          ]
        },
        {
          "output_type": "execute_result",
          "data": {
            "text/plain": [
              "(0.06469714813455359, 0.024309154315137714, 1.8386961370647077)"
            ]
          },
          "metadata": {},
          "execution_count": 30
        }
      ]
    },
    {
      "cell_type": "markdown",
      "source": [
        "###2.7 Frontera Eficiente"
      ],
      "metadata": {
        "id": "mL48X8sPKj6r"
      }
    },
    {
      "cell_type": "code",
      "source": [
        "import copy"
      ],
      "metadata": {
        "id": "kzsndbV1MZ1S"
      },
      "execution_count": null,
      "outputs": []
    },
    {
      "cell_type": "code",
      "source": [
        "ef = EfficientFrontier(r_anuales, cov_portafolio,weight_bounds=(-1,1))\n",
        "\n",
        "fig, ax = plt.subplots()\n",
        "ef_min_volatility = copy.deepcopy(ef)\n",
        "ef_min_volatility.min_volatility()\n",
        "ret_tangent, std_tangent, _ = ef_min_volatility.portfolio_performance()\n",
        "ax.scatter(std_tangent, ret_tangent, marker=\"*\", s=100, c=\"r\", label=\"Min Volatility\")\n",
        "\n",
        "\n",
        "plotting.plot_efficient_frontier(ef, ax=ax, show_assets=True)\n",
        "plt.show()"
      ],
      "metadata": {
        "colab": {
          "base_uri": "https://localhost:8080/",
          "height": 297
        },
        "id": "ZN9Xj01GNaeM",
        "outputId": "2cb950b2-3346-434f-bd75-9a3f2f76042f"
      },
      "execution_count": null,
      "outputs": [
        {
          "output_type": "display_data",
          "data": {
            "text/plain": [
              "<Figure size 432x288 with 1 Axes>"
            ],
            "image/png": "[encoded data removed]"
          },
          "metadata": {
            "needs_background": "light"
          }
        }
      ]
    },
    {
      "cell_type": "code",
      "source": [
        "#ef = EfficientFrontier(r_anuales, cov_portafolio,weight_bounds=(-1,1))\n",
        "#fig, ax = plt.subplots()\n",
        "#ef_min_volatility = copy.deepcopy(ef)\n",
        "#plotting.plot_efficient_frontier(ef, ax=ax, show_assets=False)\n",
        "\n",
        "# Find the tangency portfolio\n",
        "#ef_min_volatility.min_volatility()\n",
        "#ret_tangent, std_tangent, _ = ef_min_volatility.portfolio_performance()\n",
        "#ax.scatter(std_tangent, ret_tangent, marker=\"*\", s=100, c=\"r\", label=\"Min Volatility\")\n",
        "\n",
        "# Generate random portfolios\n",
        "#n_samples = 10000\n",
        "#w = np.random.dirichlet(np.ones(ef.n_assets), n_samples)\n",
        "#rets = w.dot(ef.expected_returns)\n",
        "#stds = np.sqrt(np.diag(w @ ef.cov_matrix @ w.T))\n",
        "#sharpes = rets / stds\n",
        "#ax.scatter(stds, rets, marker=\".\", c=sharpes, cmap=\"viridis_r\")\n",
        "\n",
        "# Output\n",
        "#ax.set_title(\"Efficient Frontier with random portfolios\")\n",
        "#ax.legend()\n",
        "#plt.tight_layout()\n",
        "#plt.show()"
      ],
      "metadata": {
        "id": "IcrGYtteMEXt"
      },
      "execution_count": null,
      "outputs": []
    },
    {
      "cell_type": "markdown",
      "source": [
        "###2.7 Comparación"
      ],
      "metadata": {
        "id": "rV0v-_vjKsFU"
      }
    },
    {
      "cell_type": "code",
      "source": [
        "ef = EfficientFrontier(r_anuales, cov_portafolio,weight_bounds=(-1,1))\n",
        "\n",
        "fig, ax = plt.subplots()\n",
        "\n",
        "ef_min_volatility = copy.deepcopy(ef)\n",
        "ef_min_volatility.min_volatility()\n",
        "\n",
        "ef_risk = copy.deepcopy(ef)\n",
        "ef_risk.efficient_risk(0.05) \n",
        "\n",
        "ret_tangent, std_tangent, _ = ef_min_volatility.portfolio_performance()\n",
        "ret_tangent_risk, std_tangent_risk, _ = ef_risk.portfolio_performance()\n",
        "ax.scatter(std_tangent, ret_tangent, marker=\"*\", s=100, c=\"r\", label=\"Min Volatility\")\n",
        "ax.scatter(std_tangent_risk, ret_tangent_risk, marker=\"*\", s=100, c=\"b\", label=\"Target Risk\")\n",
        "\n",
        "plotting.plot_efficient_frontier(ef, ax=ax, show_assets=True)\n",
        "plt.show()"
      ],
      "metadata": {
        "colab": {
          "base_uri": "https://localhost:8080/",
          "height": 297
        },
        "id": "tEOCmCruP_20",
        "outputId": "ee11a18a-7027-42be-94cb-1f6bc87c66fa"
      },
      "execution_count": null,
      "outputs": [
        {
          "output_type": "display_data",
          "data": {
            "text/plain": [
              "<Figure size 432x288 with 1 Axes>"
            ],
            "image/png": "[encoded data removed]"
          },
          "metadata": {
            "needs_background": "light"
          }
        }
      ]
    },
    {
      "cell_type": "markdown",
      "source": [
        "###2.8 Elección de Cartera FALTA"
      ],
      "metadata": {
        "id": "qrFWmYCkKXrk"
      }
    },
    {
      "cell_type": "markdown",
      "source": [
        ""
      ],
      "metadata": {
        "id": "c_rVMsQnRpWp"
      }
    },
    {
      "cell_type": "markdown",
      "source": [
        "## Parte 3:"
      ],
      "metadata": {
        "id": "2Eu2oi66TYjJ"
      }
    },
    {
      "cell_type": "markdown",
      "source": [
        "###3.1 Datos de 2020 a la fecha\n",
        "\n",
        "\n"
      ],
      "metadata": {
        "id": "uw5R5CYpbw0E"
      }
    },
    {
      "cell_type": "code",
      "source": [
        "#2020 a la fecha.\n",
        "df4= df.copy()\n",
        "df4 = df4['2020-01-01':'2022-02-28']\n",
        "df4"
      ],
      "metadata": {
        "id": "Xqg8vwaCfiiy",
        "colab": {
          "base_uri": "https://localhost:8080/",
          "height": 455
        },
        "outputId": "ca418426-6abc-4eb3-f229-f99066e1c564"
      },
      "execution_count": null,
      "outputs": [
        {
          "output_type": "execute_result",
          "data": {
            "text/plain": [
              "                IPSA     Latam       USA    Europe  Asia Dev   Asia EM  \\\n",
              "Fecha                                                                    \n",
              "2020-01-01  4.414617  6.494558  5.090257  3.448311  2.969811  5.330439   \n",
              "2020-01-02  4.529623  6.623074  5.115971  3.459411  2.971401  5.374666   \n",
              "2020-01-03  4.580262  6.635295  5.118522  3.471452  2.996583  5.392545   \n",
              "2020-01-06  4.627602  6.733901  5.246896  3.536057  3.023897  5.448779   \n",
              "2020-01-07  4.645672  6.635167  5.212098  3.516312  3.041473  5.459933   \n",
              "...              ...       ...       ...       ...       ...       ...   \n",
              "2022-02-22  4.347410  6.165061  7.406781  4.231514  3.455595  6.572418   \n",
              "2022-02-23  4.266137  6.089070  7.244129  4.205712  3.446516  6.566163   \n",
              "2022-02-24  4.359112  6.175280  7.628516  4.112615  3.486945  6.571291   \n",
              "2022-02-25  4.379002  6.168639  7.639262  4.254130  3.453135  6.487077   \n",
              "2022-02-28  4.474654  6.185601  7.595290  4.203039  3.457765  6.483930   \n",
              "\n",
              "                EMEA  CLP Dur < 5Y  UF Dur < 5Y  Gob Dur >5Y  \\\n",
              "Fecha                                                          \n",
              "2020-01-01  4.110463      3.551551     3.691970     5.336901   \n",
              "2020-01-02  4.123065      3.555253     3.697959     5.352792   \n",
              "2020-01-03  4.139684      3.558270     3.702733     5.354789   \n",
              "2020-01-06  4.189486      3.559031     3.704255     5.342958   \n",
              "2020-01-07  4.157563      3.560164     3.705861     5.339769   \n",
              "...              ...           ...          ...          ...   \n",
              "2022-02-22  4.843681      3.643536     3.883821     5.159479   \n",
              "2022-02-23  4.787973      3.647205     3.892796     5.173021   \n",
              "2022-02-24  4.477876      3.657608     3.906880     5.218975   \n",
              "2022-02-25  4.600146      3.658556     3.906618     5.216399   \n",
              "2022-02-28  4.440004      3.662006     3.915962     5.272461   \n",
              "\n",
              "            Corporativos Chile  Corporativos EM  Corporativos Dev HY  \\\n",
              "Fecha                                                                  \n",
              "2020-01-01            5.678611         5.475968             4.941338   \n",
              "2020-01-02            5.688109         5.467461             4.928975   \n",
              "2020-01-03            5.700079         5.513833             4.959890   \n",
              "2020-01-06            5.705874         5.634408             5.070649   \n",
              "2020-01-07            5.709390         5.615228             5.045335   \n",
              "...                        ...              ...                  ...   \n",
              "2022-02-22            5.837012         6.006530             5.409949   \n",
              "2022-02-23            5.848282         5.961982             5.390706   \n",
              "2022-02-24            5.877445         6.074529             5.535866   \n",
              "2022-02-25            5.881832         5.947630             5.476005   \n",
              "2022-02-28            5.897233         5.837534             5.455819   \n",
              "\n",
              "            Corporativos Dev IG  Treasury  \n",
              "Fecha                                      \n",
              "2020-01-01             4.181717  2.990091  \n",
              "2020-01-02             4.176718  2.987546  \n",
              "2020-01-03             4.222440  3.029604  \n",
              "2020-01-06             4.305409  3.090591  \n",
              "2020-01-07             4.281996  3.074495  \n",
              "...                         ...       ...  \n",
              "2022-02-22             4.493621  3.234425  \n",
              "2022-02-23             4.460577  3.215877  \n",
              "2022-02-24             4.619430  3.337983  \n",
              "2022-02-25             4.529534  3.263371  \n",
              "2022-02-28             4.536713  3.288339  \n",
              "\n",
              "[564 rows x 15 columns]"
            ],
            "text/html": [
              "\n",
              "  <div id=\"df-146584af-3ad6-4ac8-9006-2530b21aa758\">\n",
              "    <div class=\"colab-df-container\">\n",
              "      <div>\n",
              "<style scoped>\n",
              "    .dataframe tbody tr th:only-of-type {\n",
              "        vertical-align: middle;\n",
              "    }\n",
              "\n",
              "    .dataframe tbody tr th {\n",
              "        vertical-align: top;\n",
              "    }\n",
              "\n",
              "    .dataframe thead th {\n",
              "        text-align: right;\n",
              "    }\n",
              "</style>\n",
              "<table border=\"1\" class=\"dataframe\">\n",
              "  <thead>\n",
              "    <tr style=\"text-align: right;\">\n",
              "      <th></th>\n",
              "      <th>IPSA</th>\n",
              "      <th>Latam</th>\n",
              "      <th>USA</th>\n",
              "      <th>Europe</th>\n",
              "      <th>Asia Dev</th>\n",
              "      <th>Asia EM</th>\n",
              "      <th>EMEA</th>\n",
              "      <th>CLP Dur &lt; 5Y</th>\n",
              "      <th>UF Dur &lt; 5Y</th>\n",
              "      <th>Gob Dur &gt;5Y</th>\n",
              "      <th>Corporativos Chile</th>\n",
              "      <th>Corporativos EM</th>\n",
              "      <th>Corporativos Dev HY</th>\n",
              "      <th>Corporativos Dev IG</th>\n",
              "      <th>Treasury</th>\n",
              "    </tr>\n",
              "    <tr>\n",
              "      <th>Fecha</th>\n",
              "      <th></th>\n",
              "      <th></th>\n",
              "      <th></th>\n",
              "      <th></th>\n",
              "      <th></th>\n",
              "      <th></th>\n",
              "      <th></th>\n",
              "      <th></th>\n",
              "      <th></th>\n",
              "      <th></th>\n",
              "      <th></th>\n",
              "      <th></th>\n",
              "      <th></th>\n",
              "      <th></th>\n",
              "      <th></th>\n",
              "    </tr>\n",
              "  </thead>\n",
              "  <tbody>\n",
              "    <tr>\n",
              "      <th>2020-01-01</th>\n",
              "      <td>4.414617</td>\n",
              "      <td>6.494558</td>\n",
              "      <td>5.090257</td>\n",
              "      <td>3.448311</td>\n",
              "      <td>2.969811</td>\n",
              "      <td>5.330439</td>\n",
              "      <td>4.110463</td>\n",
              "      <td>3.551551</td>\n",
              "      <td>3.691970</td>\n",
              "      <td>5.336901</td>\n",
              "      <td>5.678611</td>\n",
              "      <td>5.475968</td>\n",
              "      <td>4.941338</td>\n",
              "      <td>4.181717</td>\n",
              "      <td>2.990091</td>\n",
              "    </tr>\n",
              "    <tr>\n",
              "      <th>2020-01-02</th>\n",
              "      <td>4.529623</td>\n",
              "      <td>6.623074</td>\n",
              "      <td>5.115971</td>\n",
              "      <td>3.459411</td>\n",
              "      <td>2.971401</td>\n",
              "      <td>5.374666</td>\n",
              "      <td>4.123065</td>\n",
              "      <td>3.555253</td>\n",
              "      <td>3.697959</td>\n",
              "      <td>5.352792</td>\n",
              "      <td>5.688109</td>\n",
              "      <td>5.467461</td>\n",
              "      <td>4.928975</td>\n",
              "      <td>4.176718</td>\n",
              "      <td>2.987546</td>\n",
              "    </tr>\n",
              "    <tr>\n",
              "      <th>2020-01-03</th>\n",
              "      <td>4.580262</td>\n",
              "      <td>6.635295</td>\n",
              "      <td>5.118522</td>\n",
              "      <td>3.471452</td>\n",
              "      <td>2.996583</td>\n",
              "      <td>5.392545</td>\n",
              "      <td>4.139684</td>\n",
              "      <td>3.558270</td>\n",
              "      <td>3.702733</td>\n",
              "      <td>5.354789</td>\n",
              "      <td>5.700079</td>\n",
              "      <td>5.513833</td>\n",
              "      <td>4.959890</td>\n",
              "      <td>4.222440</td>\n",
              "      <td>3.029604</td>\n",
              "    </tr>\n",
              "    <tr>\n",
              "      <th>2020-01-06</th>\n",
              "      <td>4.627602</td>\n",
              "      <td>6.733901</td>\n",
              "      <td>5.246896</td>\n",
              "      <td>3.536057</td>\n",
              "      <td>3.023897</td>\n",
              "      <td>5.448779</td>\n",
              "      <td>4.189486</td>\n",
              "      <td>3.559031</td>\n",
              "      <td>3.704255</td>\n",
              "      <td>5.342958</td>\n",
              "      <td>5.705874</td>\n",
              "      <td>5.634408</td>\n",
              "      <td>5.070649</td>\n",
              "      <td>4.305409</td>\n",
              "      <td>3.090591</td>\n",
              "    </tr>\n",
              "    <tr>\n",
              "      <th>2020-01-07</th>\n",
              "      <td>4.645672</td>\n",
              "      <td>6.635167</td>\n",
              "      <td>5.212098</td>\n",
              "      <td>3.516312</td>\n",
              "      <td>3.041473</td>\n",
              "      <td>5.459933</td>\n",
              "      <td>4.157563</td>\n",
              "      <td>3.560164</td>\n",
              "      <td>3.705861</td>\n",
              "      <td>5.339769</td>\n",
              "      <td>5.709390</td>\n",
              "      <td>5.615228</td>\n",
              "      <td>5.045335</td>\n",
              "      <td>4.281996</td>\n",
              "      <td>3.074495</td>\n",
              "    </tr>\n",
              "    <tr>\n",
              "      <th>...</th>\n",
              "      <td>...</td>\n",
              "      <td>...</td>\n",
              "      <td>...</td>\n",
              "      <td>...</td>\n",
              "      <td>...</td>\n",
              "      <td>...</td>\n",
              "      <td>...</td>\n",
              "      <td>...</td>\n",
              "      <td>...</td>\n",
              "      <td>...</td>\n",
              "      <td>...</td>\n",
              "      <td>...</td>\n",
              "      <td>...</td>\n",
              "      <td>...</td>\n",
              "      <td>...</td>\n",
              "    </tr>\n",
              "    <tr>\n",
              "      <th>2022-02-22</th>\n",
              "      <td>4.347410</td>\n",
              "      <td>6.165061</td>\n",
              "      <td>7.406781</td>\n",
              "      <td>4.231514</td>\n",
              "      <td>3.455595</td>\n",
              "      <td>6.572418</td>\n",
              "      <td>4.843681</td>\n",
              "      <td>3.643536</td>\n",
              "      <td>3.883821</td>\n",
              "      <td>5.159479</td>\n",
              "      <td>5.837012</td>\n",
              "      <td>6.006530</td>\n",
              "      <td>5.409949</td>\n",
              "      <td>4.493621</td>\n",
              "      <td>3.234425</td>\n",
              "    </tr>\n",
              "    <tr>\n",
              "      <th>2022-02-23</th>\n",
              "      <td>4.266137</td>\n",
              "      <td>6.089070</td>\n",
              "      <td>7.244129</td>\n",
              "      <td>4.205712</td>\n",
              "      <td>3.446516</td>\n",
              "      <td>6.566163</td>\n",
              "      <td>4.787973</td>\n",
              "      <td>3.647205</td>\n",
              "      <td>3.892796</td>\n",
              "      <td>5.173021</td>\n",
              "      <td>5.848282</td>\n",
              "      <td>5.961982</td>\n",
              "      <td>5.390706</td>\n",
              "      <td>4.460577</td>\n",
              "      <td>3.215877</td>\n",
              "    </tr>\n",
              "    <tr>\n",
              "      <th>2022-02-24</th>\n",
              "      <td>4.359112</td>\n",
              "      <td>6.175280</td>\n",
              "      <td>7.628516</td>\n",
              "      <td>4.112615</td>\n",
              "      <td>3.486945</td>\n",
              "      <td>6.571291</td>\n",
              "      <td>4.477876</td>\n",
              "      <td>3.657608</td>\n",
              "      <td>3.906880</td>\n",
              "      <td>5.218975</td>\n",
              "      <td>5.877445</td>\n",
              "      <td>6.074529</td>\n",
              "      <td>5.535866</td>\n",
              "      <td>4.619430</td>\n",
              "      <td>3.337983</td>\n",
              "    </tr>\n",
              "    <tr>\n",
              "      <th>2022-02-25</th>\n",
              "      <td>4.379002</td>\n",
              "      <td>6.168639</td>\n",
              "      <td>7.639262</td>\n",
              "      <td>4.254130</td>\n",
              "      <td>3.453135</td>\n",
              "      <td>6.487077</td>\n",
              "      <td>4.600146</td>\n",
              "      <td>3.658556</td>\n",
              "      <td>3.906618</td>\n",
              "      <td>5.216399</td>\n",
              "      <td>5.881832</td>\n",
              "      <td>5.947630</td>\n",
              "      <td>5.476005</td>\n",
              "      <td>4.529534</td>\n",
              "      <td>3.263371</td>\n",
              "    </tr>\n",
              "    <tr>\n",
              "      <th>2022-02-28</th>\n",
              "      <td>4.474654</td>\n",
              "      <td>6.185601</td>\n",
              "      <td>7.595290</td>\n",
              "      <td>4.203039</td>\n",
              "      <td>3.457765</td>\n",
              "      <td>6.483930</td>\n",
              "      <td>4.440004</td>\n",
              "      <td>3.662006</td>\n",
              "      <td>3.915962</td>\n",
              "      <td>5.272461</td>\n",
              "      <td>5.897233</td>\n",
              "      <td>5.837534</td>\n",
              "      <td>5.455819</td>\n",
              "      <td>4.536713</td>\n",
              "      <td>3.288339</td>\n",
              "    </tr>\n",
              "  </tbody>\n",
              "</table>\n",
              "<p>564 rows × 15 columns</p>\n",
              "</div>\n",
              "      <button class=\"colab-df-convert\" onclick=\"convertToInteractive('df-146584af-3ad6-4ac8-9006-2530b21aa758')\"\n",
              "              title=\"Convert this dataframe to an interactive table.\"\n",
              "              style=\"display:none;\">\n",
              "        \n",
              "  <svg xmlns=\"http://www.w3.org/2000/svg\" height=\"24px\"viewBox=\"0 0 24 24\"\n",
              "       width=\"24px\">\n",
              "    <path d=\"M0 0h24v24H0V0z\" fill=\"none\"/>\n",
              "    <path d=\"M18.56 5.44l.94 2.06.94-2.06 2.06-.94-2.06-.94-.94-2.06-.94 2.06-2.06.94zm-11 1L8.5 8.5l.94-2.06 2.06-.94-2.06-.94L8.5 2.5l-.94 2.06-2.06.94zm10 10l.94 2.06.94-2.06 2.06-.94-2.06-.94-.94-2.06-.94 2.06-2.06.94z\"/><path d=\"M17.41 7.96l-1.37-1.37c-.4-.4-.92-.59-1.43-.59-.52 0-1.04.2-1.43.59L10.3 9.45l-7.72 7.72c-.78.78-.78 2.05 0 2.83L4 21.41c.39.39.9.59 1.41.59.51 0 1.02-.2 1.41-.59l7.78-7.78 2.81-2.81c.8-.78.8-2.07 0-2.86zM5.41 20L4 18.59l7.72-7.72 1.47 1.35L5.41 20z\"/>\n",
              "  </svg>\n",
              "      </button>\n",
              "      \n",
              "  <style>\n",
              "    .colab-df-container {\n",
              "      display:flex;\n",
              "      flex-wrap:wrap;\n",
              "      gap: 12px;\n",
              "    }\n",
              "\n",
              "    .colab-df-convert {\n",
              "      background-color: #E8F0FE;\n",
              "      border: none;\n",
              "      border-radius: 50%;\n",
              "      cursor: pointer;\n",
              "      display: none;\n",
              "      fill: #1967D2;\n",
              "      height: 32px;\n",
              "      padding: 0 0 0 0;\n",
              "      width: 32px;\n",
              "    }\n",
              "\n",
              "    .colab-df-convert:hover {\n",
              "      background-color: #E2EBFA;\n",
              "      box-shadow: 0px 1px 2px rgba(60, 64, 67, 0.3), 0px 1px 3px 1px rgba(60, 64, 67, 0.15);\n",
              "      fill: #174EA6;\n",
              "    }\n",
              "\n",
              "    [theme=dark] .colab-df-convert {\n",
              "      background-color: #3B4455;\n",
              "      fill: #D2E3FC;\n",
              "    }\n",
              "\n",
              "    [theme=dark] .colab-df-convert:hover {\n",
              "      background-color: #434B5C;\n",
              "      box-shadow: 0px 1px 3px 1px rgba(0, 0, 0, 0.15);\n",
              "      filter: drop-shadow(0px 1px 2px rgba(0, 0, 0, 0.3));\n",
              "      fill: #FFFFFF;\n",
              "    }\n",
              "  </style>\n",
              "\n",
              "      <script>\n",
              "        const buttonEl =\n",
              "          document.querySelector('#df-146584af-3ad6-4ac8-9006-2530b21aa758 button.colab-df-convert');\n",
              "        buttonEl.style.display =\n",
              "          google.colab.kernel.accessAllowed ? 'block' : 'none';\n",
              "\n",
              "        async function convertToInteractive(key) {\n",
              "          const element = document.querySelector('#df-146584af-3ad6-4ac8-9006-2530b21aa758');\n",
              "          const dataTable =\n",
              "            await google.colab.kernel.invokeFunction('convertToInteractive',\n",
              "                                                     [key], {});\n",
              "          if (!dataTable) return;\n",
              "\n",
              "          const docLinkHtml = 'Like what you see? Visit the ' +\n",
              "            '<a target=\"_blank\" href=https://colab.research.google.com/notebooks/data_table.ipynb>data table notebook</a>'\n",
              "            + ' to learn more about interactive tables.';\n",
              "          element.innerHTML = '';\n",
              "          dataTable['output_type'] = 'display_data';\n",
              "          await google.colab.output.renderOutput(dataTable, element);\n",
              "          const docLink = document.createElement('div');\n",
              "          docLink.innerHTML = docLinkHtml;\n",
              "          element.appendChild(docLink);\n",
              "        }\n",
              "      </script>\n",
              "    </div>\n",
              "  </div>\n",
              "  "
            ]
          },
          "metadata": {},
          "execution_count": 35
        }
      ]
    },
    {
      "cell_type": "markdown",
      "source": [
        "###3.1 Retornos Logarítmicos"
      ],
      "metadata": {
        "id": "oyMmGnurELD2"
      }
    },
    {
      "cell_type": "code",
      "source": [
        "log_variables = ['log_IPSA', 'log_Latam', 'log_USA', 'log_Europe', 'log_Asia Dev', 'log_Asia EM', 'log_EMEA',\n",
        "       'log_CLP Dur < 5Y', 'log_UF Dur < 5Y', 'log_Gob Dur >5Y', 'log_Corporativos Chile',\n",
        "       'log_Corporativos EM', 'log_Corporativos Dev HY', 'log_Corporativos Dev IG',\n",
        "       'log_Treasury']\n",
        "df_log4 = pd.DataFrame(index = df4.index)\n",
        "for i in range(len(log_variables)):\n",
        "  df_log4[log_variables[i]] = log_r(df4[df4.columns[i]])\n",
        "df_log4 = df_log4.iloc[1:]\n",
        "df_log4"
      ],
      "metadata": {
        "colab": {
          "base_uri": "https://localhost:8080/",
          "height": 690
        },
        "id": "yGqnLpCDEB0V",
        "outputId": "08e65b01-f41b-4ab2-fc01-1d00b7ec0568"
      },
      "execution_count": null,
      "outputs": [
        {
          "output_type": "execute_result",
          "data": {
            "text/plain": [
              "            log_IPSA  log_Latam   log_USA  log_Europe  log_Asia Dev  \\\n",
              "Fecha                                                                 \n",
              "2020-01-02  0.025718   0.019595  0.005039    0.003214      0.000535   \n",
              "2020-01-03  0.011118   0.001843  0.000498    0.003475      0.008439   \n",
              "2020-01-06  0.010282   0.014752  0.024771    0.018439      0.009074   \n",
              "2020-01-07  0.003897  -0.014771 -0.006654   -0.005600      0.005796   \n",
              "2020-01-08 -0.002445  -0.007191 -0.005088   -0.010324     -0.020102   \n",
              "...              ...        ...       ...         ...           ...   \n",
              "2022-02-22 -0.014009   0.004013 -0.017474   -0.006837     -0.022828   \n",
              "2022-02-23 -0.018872  -0.012403 -0.022205   -0.006116     -0.002631   \n",
              "2022-02-24  0.021560   0.014059  0.051702   -0.022384      0.011662   \n",
              "2022-02-25  0.004553  -0.001076  0.001408    0.033831     -0.009743   \n",
              "2022-02-28  0.021608   0.002746 -0.005773   -0.012082      0.001340   \n",
              "\n",
              "            log_Asia EM  log_EMEA  log_CLP Dur < 5Y  log_UF Dur < 5Y  \\\n",
              "Fecha                                                                  \n",
              "2020-01-02     0.008263  0.003061          0.001042         0.001621   \n",
              "2020-01-03     0.003321  0.004023          0.000848         0.001290   \n",
              "2020-01-06     0.010374  0.011959          0.000214         0.000411   \n",
              "2020-01-07     0.002045 -0.007649          0.000318         0.000434   \n",
              "2020-01-08    -0.016298 -0.006640         -0.000361        -0.000148   \n",
              "...                 ...       ...               ...              ...   \n",
              "2022-02-22    -0.022538 -0.003683          0.000509         0.000763   \n",
              "2022-02-23    -0.000952 -0.011568          0.001006         0.002308   \n",
              "2022-02-24     0.000781 -0.066958          0.002848         0.003611   \n",
              "2022-02-25    -0.012898  0.026939          0.000259        -0.000067   \n",
              "2022-02-28    -0.000485 -0.035433          0.000942         0.002389   \n",
              "\n",
              "            log_Gob Dur >5Y  log_Corporativos Chile  log_Corporativos EM  \\\n",
              "Fecha                                                                      \n",
              "2020-01-02         0.002973                0.001671            -0.001555   \n",
              "2020-01-03         0.000373                0.002102             0.008446   \n",
              "2020-01-06        -0.002212                0.001016             0.021632   \n",
              "2020-01-07        -0.000597                0.000616            -0.003410   \n",
              "2020-01-08        -0.001000                0.000095            -0.009724   \n",
              "...                     ...                     ...                  ...   \n",
              "2022-02-22         0.002082                0.001060            -0.011414   \n",
              "2022-02-23         0.002621                0.001929            -0.007444   \n",
              "2022-02-24         0.008844                0.004974             0.018702   \n",
              "2022-02-25        -0.000494                0.000746            -0.021112   \n",
              "2022-02-28         0.010690                0.002615            -0.018684   \n",
              "\n",
              "            log_Corporativos Dev HY  log_Corporativos Dev IG  log_Treasury  \n",
              "Fecha                                                                       \n",
              "2020-01-02                -0.002505                -0.001196     -0.000851  \n",
              "2020-01-03                 0.006253                 0.010888      0.013980  \n",
              "2020-01-06                 0.022085                 0.019459      0.019931  \n",
              "2020-01-07                -0.005005                -0.005453     -0.005222  \n",
              "2020-01-08                -0.010587                -0.012191     -0.013360  \n",
              "...                             ...                      ...           ...  \n",
              "2022-02-22                -0.008384                -0.009636     -0.008417  \n",
              "2022-02-23                -0.003563                -0.007381     -0.005751  \n",
              "2022-02-24                 0.026572                 0.034993      0.037267  \n",
              "2022-02-25                -0.010872                -0.019652     -0.022606  \n",
              "2022-02-28                -0.003693                 0.001584      0.007622  \n",
              "\n",
              "[563 rows x 15 columns]"
            ],
            "text/html": [
              "\n",
              "  <div id=\"df-415b06a4-209a-485c-8f2e-8b2e2b7f300b\">\n",
              "    <div class=\"colab-df-container\">\n",
              "      <div>\n",
              "<style scoped>\n",
              "    .dataframe tbody tr th:only-of-type {\n",
              "        vertical-align: middle;\n",
              "    }\n",
              "\n",
              "    .dataframe tbody tr th {\n",
              "        vertical-align: top;\n",
              "    }\n",
              "\n",
              "    .dataframe thead th {\n",
              "        text-align: right;\n",
              "    }\n",
              "</style>\n",
              "<table border=\"1\" class=\"dataframe\">\n",
              "  <thead>\n",
              "    <tr style=\"text-align: right;\">\n",
              "      <th></th>\n",
              "      <th>log_IPSA</th>\n",
              "      <th>log_Latam</th>\n",
              "      <th>log_USA</th>\n",
              "      <th>log_Europe</th>\n",
              "      <th>log_Asia Dev</th>\n",
              "      <th>log_Asia EM</th>\n",
              "      <th>log_EMEA</th>\n",
              "      <th>log_CLP Dur &lt; 5Y</th>\n",
              "      <th>log_UF Dur &lt; 5Y</th>\n",
              "      <th>log_Gob Dur &gt;5Y</th>\n",
              "      <th>log_Corporativos Chile</th>\n",
              "      <th>log_Corporativos EM</th>\n",
              "      <th>log_Corporativos Dev HY</th>\n",
              "      <th>log_Corporativos Dev IG</th>\n",
              "      <th>log_Treasury</th>\n",
              "    </tr>\n",
              "    <tr>\n",
              "      <th>Fecha</th>\n",
              "      <th></th>\n",
              "      <th></th>\n",
              "      <th></th>\n",
              "      <th></th>\n",
              "      <th></th>\n",
              "      <th></th>\n",
              "      <th></th>\n",
              "      <th></th>\n",
              "      <th></th>\n",
              "      <th></th>\n",
              "      <th></th>\n",
              "      <th></th>\n",
              "      <th></th>\n",
              "      <th></th>\n",
              "      <th></th>\n",
              "    </tr>\n",
              "  </thead>\n",
              "  <tbody>\n",
              "    <tr>\n",
              "      <th>2020-01-02</th>\n",
              "      <td>0.025718</td>\n",
              "      <td>0.019595</td>\n",
              "      <td>0.005039</td>\n",
              "      <td>0.003214</td>\n",
              "      <td>0.000535</td>\n",
              "      <td>0.008263</td>\n",
              "      <td>0.003061</td>\n",
              "      <td>0.001042</td>\n",
              "      <td>0.001621</td>\n",
              "      <td>0.002973</td>\n",
              "      <td>0.001671</td>\n",
              "      <td>-0.001555</td>\n",
              "      <td>-0.002505</td>\n",
              "      <td>-0.001196</td>\n",
              "      <td>-0.000851</td>\n",
              "    </tr>\n",
              "    <tr>\n",
              "      <th>2020-01-03</th>\n",
              "      <td>0.011118</td>\n",
              "      <td>0.001843</td>\n",
              "      <td>0.000498</td>\n",
              "      <td>0.003475</td>\n",
              "      <td>0.008439</td>\n",
              "      <td>0.003321</td>\n",
              "      <td>0.004023</td>\n",
              "      <td>0.000848</td>\n",
              "      <td>0.001290</td>\n",
              "      <td>0.000373</td>\n",
              "      <td>0.002102</td>\n",
              "      <td>0.008446</td>\n",
              "      <td>0.006253</td>\n",
              "      <td>0.010888</td>\n",
              "      <td>0.013980</td>\n",
              "    </tr>\n",
              "    <tr>\n",
              "      <th>2020-01-06</th>\n",
              "      <td>0.010282</td>\n",
              "      <td>0.014752</td>\n",
              "      <td>0.024771</td>\n",
              "      <td>0.018439</td>\n",
              "      <td>0.009074</td>\n",
              "      <td>0.010374</td>\n",
              "      <td>0.011959</td>\n",
              "      <td>0.000214</td>\n",
              "      <td>0.000411</td>\n",
              "      <td>-0.002212</td>\n",
              "      <td>0.001016</td>\n",
              "      <td>0.021632</td>\n",
              "      <td>0.022085</td>\n",
              "      <td>0.019459</td>\n",
              "      <td>0.019931</td>\n",
              "    </tr>\n",
              "    <tr>\n",
              "      <th>2020-01-07</th>\n",
              "      <td>0.003897</td>\n",
              "      <td>-0.014771</td>\n",
              "      <td>-0.006654</td>\n",
              "      <td>-0.005600</td>\n",
              "      <td>0.005796</td>\n",
              "      <td>0.002045</td>\n",
              "      <td>-0.007649</td>\n",
              "      <td>0.000318</td>\n",
              "      <td>0.000434</td>\n",
              "      <td>-0.000597</td>\n",
              "      <td>0.000616</td>\n",
              "      <td>-0.003410</td>\n",
              "      <td>-0.005005</td>\n",
              "      <td>-0.005453</td>\n",
              "      <td>-0.005222</td>\n",
              "    </tr>\n",
              "    <tr>\n",
              "      <th>2020-01-08</th>\n",
              "      <td>-0.002445</td>\n",
              "      <td>-0.007191</td>\n",
              "      <td>-0.005088</td>\n",
              "      <td>-0.010324</td>\n",
              "      <td>-0.020102</td>\n",
              "      <td>-0.016298</td>\n",
              "      <td>-0.006640</td>\n",
              "      <td>-0.000361</td>\n",
              "      <td>-0.000148</td>\n",
              "      <td>-0.001000</td>\n",
              "      <td>0.000095</td>\n",
              "      <td>-0.009724</td>\n",
              "      <td>-0.010587</td>\n",
              "      <td>-0.012191</td>\n",
              "      <td>-0.013360</td>\n",
              "    </tr>\n",
              "    <tr>\n",
              "      <th>...</th>\n",
              "      <td>...</td>\n",
              "      <td>...</td>\n",
              "      <td>...</td>\n",
              "      <td>...</td>\n",
              "      <td>...</td>\n",
              "      <td>...</td>\n",
              "      <td>...</td>\n",
              "      <td>...</td>\n",
              "      <td>...</td>\n",
              "      <td>...</td>\n",
              "      <td>...</td>\n",
              "      <td>...</td>\n",
              "      <td>...</td>\n",
              "      <td>...</td>\n",
              "      <td>...</td>\n",
              "    </tr>\n",
              "    <tr>\n",
              "      <th>2022-02-22</th>\n",
              "      <td>-0.014009</td>\n",
              "      <td>0.004013</td>\n",
              "      <td>-0.017474</td>\n",
              "      <td>-0.006837</td>\n",
              "      <td>-0.022828</td>\n",
              "      <td>-0.022538</td>\n",
              "      <td>-0.003683</td>\n",
              "      <td>0.000509</td>\n",
              "      <td>0.000763</td>\n",
              "      <td>0.002082</td>\n",
              "      <td>0.001060</td>\n",
              "      <td>-0.011414</td>\n",
              "      <td>-0.008384</td>\n",
              "      <td>-0.009636</td>\n",
              "      <td>-0.008417</td>\n",
              "    </tr>\n",
              "    <tr>\n",
              "      <th>2022-02-23</th>\n",
              "      <td>-0.018872</td>\n",
              "      <td>-0.012403</td>\n",
              "      <td>-0.022205</td>\n",
              "      <td>-0.006116</td>\n",
              "      <td>-0.002631</td>\n",
              "      <td>-0.000952</td>\n",
              "      <td>-0.011568</td>\n",
              "      <td>0.001006</td>\n",
              "      <td>0.002308</td>\n",
              "      <td>0.002621</td>\n",
              "      <td>0.001929</td>\n",
              "      <td>-0.007444</td>\n",
              "      <td>-0.003563</td>\n",
              "      <td>-0.007381</td>\n",
              "      <td>-0.005751</td>\n",
              "    </tr>\n",
              "    <tr>\n",
              "      <th>2022-02-24</th>\n",
              "      <td>0.021560</td>\n",
              "      <td>0.014059</td>\n",
              "      <td>0.051702</td>\n",
              "      <td>-0.022384</td>\n",
              "      <td>0.011662</td>\n",
              "      <td>0.000781</td>\n",
              "      <td>-0.066958</td>\n",
              "      <td>0.002848</td>\n",
              "      <td>0.003611</td>\n",
              "      <td>0.008844</td>\n",
              "      <td>0.004974</td>\n",
              "      <td>0.018702</td>\n",
              "      <td>0.026572</td>\n",
              "      <td>0.034993</td>\n",
              "      <td>0.037267</td>\n",
              "    </tr>\n",
              "    <tr>\n",
              "      <th>2022-02-25</th>\n",
              "      <td>0.004553</td>\n",
              "      <td>-0.001076</td>\n",
              "      <td>0.001408</td>\n",
              "      <td>0.033831</td>\n",
              "      <td>-0.009743</td>\n",
              "      <td>-0.012898</td>\n",
              "      <td>0.026939</td>\n",
              "      <td>0.000259</td>\n",
              "      <td>-0.000067</td>\n",
              "      <td>-0.000494</td>\n",
              "      <td>0.000746</td>\n",
              "      <td>-0.021112</td>\n",
              "      <td>-0.010872</td>\n",
              "      <td>-0.019652</td>\n",
              "      <td>-0.022606</td>\n",
              "    </tr>\n",
              "    <tr>\n",
              "      <th>2022-02-28</th>\n",
              "      <td>0.021608</td>\n",
              "      <td>0.002746</td>\n",
              "      <td>-0.005773</td>\n",
              "      <td>-0.012082</td>\n",
              "      <td>0.001340</td>\n",
              "      <td>-0.000485</td>\n",
              "      <td>-0.035433</td>\n",
              "      <td>0.000942</td>\n",
              "      <td>0.002389</td>\n",
              "      <td>0.010690</td>\n",
              "      <td>0.002615</td>\n",
              "      <td>-0.018684</td>\n",
              "      <td>-0.003693</td>\n",
              "      <td>0.001584</td>\n",
              "      <td>0.007622</td>\n",
              "    </tr>\n",
              "  </tbody>\n",
              "</table>\n",
              "<p>563 rows × 15 columns</p>\n",
              "</div>\n",
              "      <button class=\"colab-df-convert\" onclick=\"convertToInteractive('df-415b06a4-209a-485c-8f2e-8b2e2b7f300b')\"\n",
              "              title=\"Convert this dataframe to an interactive table.\"\n",
              "              style=\"display:none;\">\n",
              "        \n",
              "  <svg xmlns=\"http://www.w3.org/2000/svg\" height=\"24px\"viewBox=\"0 0 24 24\"\n",
              "       width=\"24px\">\n",
              "    <path d=\"M0 0h24v24H0V0z\" fill=\"none\"/>\n",
              "    <path d=\"M18.56 5.44l.94 2.06.94-2.06 2.06-.94-2.06-.94-.94-2.06-.94 2.06-2.06.94zm-11 1L8.5 8.5l.94-2.06 2.06-.94-2.06-.94L8.5 2.5l-.94 2.06-2.06.94zm10 10l.94 2.06.94-2.06 2.06-.94-2.06-.94-.94-2.06-.94 2.06-2.06.94z\"/><path d=\"M17.41 7.96l-1.37-1.37c-.4-.4-.92-.59-1.43-.59-.52 0-1.04.2-1.43.59L10.3 9.45l-7.72 7.72c-.78.78-.78 2.05 0 2.83L4 21.41c.39.39.9.59 1.41.59.51 0 1.02-.2 1.41-.59l7.78-7.78 2.81-2.81c.8-.78.8-2.07 0-2.86zM5.41 20L4 18.59l7.72-7.72 1.47 1.35L5.41 20z\"/>\n",
              "  </svg>\n",
              "      </button>\n",
              "      \n",
              "  <style>\n",
              "    .colab-df-container {\n",
              "      display:flex;\n",
              "      flex-wrap:wrap;\n",
              "      gap: 12px;\n",
              "    }\n",
              "\n",
              "    .colab-df-convert {\n",
              "      background-color: #E8F0FE;\n",
              "      border: none;\n",
              "      border-radius: 50%;\n",
              "      cursor: pointer;\n",
              "      display: none;\n",
              "      fill: #1967D2;\n",
              "      height: 32px;\n",
              "      padding: 0 0 0 0;\n",
              "      width: 32px;\n",
              "    }\n",
              "\n",
              "    .colab-df-convert:hover {\n",
              "      background-color: #E2EBFA;\n",
              "      box-shadow: 0px 1px 2px rgba(60, 64, 67, 0.3), 0px 1px 3px 1px rgba(60, 64, 67, 0.15);\n",
              "      fill: #174EA6;\n",
              "    }\n",
              "\n",
              "    [theme=dark] .colab-df-convert {\n",
              "      background-color: #3B4455;\n",
              "      fill: #D2E3FC;\n",
              "    }\n",
              "\n",
              "    [theme=dark] .colab-df-convert:hover {\n",
              "      background-color: #434B5C;\n",
              "      box-shadow: 0px 1px 3px 1px rgba(0, 0, 0, 0.15);\n",
              "      filter: drop-shadow(0px 1px 2px rgba(0, 0, 0, 0.3));\n",
              "      fill: #FFFFFF;\n",
              "    }\n",
              "  </style>\n",
              "\n",
              "      <script>\n",
              "        const buttonEl =\n",
              "          document.querySelector('#df-415b06a4-209a-485c-8f2e-8b2e2b7f300b button.colab-df-convert');\n",
              "        buttonEl.style.display =\n",
              "          google.colab.kernel.accessAllowed ? 'block' : 'none';\n",
              "\n",
              "        async function convertToInteractive(key) {\n",
              "          const element = document.querySelector('#df-415b06a4-209a-485c-8f2e-8b2e2b7f300b');\n",
              "          const dataTable =\n",
              "            await google.colab.kernel.invokeFunction('convertToInteractive',\n",
              "                                                     [key], {});\n",
              "          if (!dataTable) return;\n",
              "\n",
              "          const docLinkHtml = 'Like what you see? Visit the ' +\n",
              "            '<a target=\"_blank\" href=https://colab.research.google.com/notebooks/data_table.ipynb>data table notebook</a>'\n",
              "            + ' to learn more about interactive tables.';\n",
              "          element.innerHTML = '';\n",
              "          dataTable['output_type'] = 'display_data';\n",
              "          await google.colab.output.renderOutput(dataTable, element);\n",
              "          const docLink = document.createElement('div');\n",
              "          docLink.innerHTML = docLinkHtml;\n",
              "          element.appendChild(docLink);\n",
              "        }\n",
              "      </script>\n",
              "    </div>\n",
              "  </div>\n",
              "  "
            ]
          },
          "metadata": {},
          "execution_count": 36
        }
      ]
    },
    {
      "cell_type": "markdown",
      "source": [
        "###3.1 Volatilidades\n",
        "\n",
        "\n",
        "\n",
        "\n"
      ],
      "metadata": {
        "id": "iw33aeoWFd91"
      }
    },
    {
      "cell_type": "code",
      "source": [
        "volatilidades_diarias4 = {}\n",
        "for i in range(len(log_variables)):\n",
        "  volatilidades_diarias4[log_variables[i]] = np.sqrt(statistics.variance(df_log4[log_variables[i]].dropna()))\n",
        "df_vol_diarias4 = pd.DataFrame(data = volatilidades_diarias4, index=[1])\n",
        "df_vol_diarias4"
      ],
      "metadata": {
        "colab": {
          "base_uri": "https://localhost:8080/",
          "height": 142
        },
        "id": "Db90XRauFl-F",
        "outputId": "51937a6e-b5a2-4902-bdc2-56b227d04777"
      },
      "execution_count": null,
      "outputs": [
        {
          "output_type": "execute_result",
          "data": {
            "text/plain": [
              "   log_IPSA  log_Latam   log_USA  log_Europe  log_Asia Dev  log_Asia EM  \\\n",
              "1  0.020011   0.020005  0.015741    0.013418      0.012233     0.012689   \n",
              "\n",
              "   log_EMEA  log_CLP Dur < 5Y  log_UF Dur < 5Y  log_Gob Dur >5Y  \\\n",
              "1  0.013222          0.002315         0.002271         0.006408   \n",
              "\n",
              "   log_Corporativos Chile  log_Corporativos EM  log_Corporativos Dev HY  \\\n",
              "1                0.003171             0.008103                 0.008136   \n",
              "\n",
              "   log_Corporativos Dev IG  log_Treasury  \n",
              "1                 0.008622       0.00955  "
            ],
            "text/html": [
              "\n",
              "  <div id=\"df-b7fb698a-ff09-4a00-a0c8-64d96d5baaf8\">\n",
              "    <div class=\"colab-df-container\">\n",
              "      <div>\n",
              "<style scoped>\n",
              "    .dataframe tbody tr th:only-of-type {\n",
              "        vertical-align: middle;\n",
              "    }\n",
              "\n",
              "    .dataframe tbody tr th {\n",
              "        vertical-align: top;\n",
              "    }\n",
              "\n",
              "    .dataframe thead th {\n",
              "        text-align: right;\n",
              "    }\n",
              "</style>\n",
              "<table border=\"1\" class=\"dataframe\">\n",
              "  <thead>\n",
              "    <tr style=\"text-align: right;\">\n",
              "      <th></th>\n",
              "      <th>log_IPSA</th>\n",
              "      <th>log_Latam</th>\n",
              "      <th>log_USA</th>\n",
              "      <th>log_Europe</th>\n",
              "      <th>log_Asia Dev</th>\n",
              "      <th>log_Asia EM</th>\n",
              "      <th>log_EMEA</th>\n",
              "      <th>log_CLP Dur &lt; 5Y</th>\n",
              "      <th>log_UF Dur &lt; 5Y</th>\n",
              "      <th>log_Gob Dur &gt;5Y</th>\n",
              "      <th>log_Corporativos Chile</th>\n",
              "      <th>log_Corporativos EM</th>\n",
              "      <th>log_Corporativos Dev HY</th>\n",
              "      <th>log_Corporativos Dev IG</th>\n",
              "      <th>log_Treasury</th>\n",
              "    </tr>\n",
              "  </thead>\n",
              "  <tbody>\n",
              "    <tr>\n",
              "      <th>1</th>\n",
              "      <td>0.020011</td>\n",
              "      <td>0.020005</td>\n",
              "      <td>0.015741</td>\n",
              "      <td>0.013418</td>\n",
              "      <td>0.012233</td>\n",
              "      <td>0.012689</td>\n",
              "      <td>0.013222</td>\n",
              "      <td>0.002315</td>\n",
              "      <td>0.002271</td>\n",
              "      <td>0.006408</td>\n",
              "      <td>0.003171</td>\n",
              "      <td>0.008103</td>\n",
              "      <td>0.008136</td>\n",
              "      <td>0.008622</td>\n",
              "      <td>0.00955</td>\n",
              "    </tr>\n",
              "  </tbody>\n",
              "</table>\n",
              "</div>\n",
              "      <button class=\"colab-df-convert\" onclick=\"convertToInteractive('df-b7fb698a-ff09-4a00-a0c8-64d96d5baaf8')\"\n",
              "              title=\"Convert this dataframe to an interactive table.\"\n",
              "              style=\"display:none;\">\n",
              "        \n",
              "  <svg xmlns=\"http://www.w3.org/2000/svg\" height=\"24px\"viewBox=\"0 0 24 24\"\n",
              "       width=\"24px\">\n",
              "    <path d=\"M0 0h24v24H0V0z\" fill=\"none\"/>\n",
              "    <path d=\"M18.56 5.44l.94 2.06.94-2.06 2.06-.94-2.06-.94-.94-2.06-.94 2.06-2.06.94zm-11 1L8.5 8.5l.94-2.06 2.06-.94-2.06-.94L8.5 2.5l-.94 2.06-2.06.94zm10 10l.94 2.06.94-2.06 2.06-.94-2.06-.94-.94-2.06-.94 2.06-2.06.94z\"/><path d=\"M17.41 7.96l-1.37-1.37c-.4-.4-.92-.59-1.43-.59-.52 0-1.04.2-1.43.59L10.3 9.45l-7.72 7.72c-.78.78-.78 2.05 0 2.83L4 21.41c.39.39.9.59 1.41.59.51 0 1.02-.2 1.41-.59l7.78-7.78 2.81-2.81c.8-.78.8-2.07 0-2.86zM5.41 20L4 18.59l7.72-7.72 1.47 1.35L5.41 20z\"/>\n",
              "  </svg>\n",
              "      </button>\n",
              "      \n",
              "  <style>\n",
              "    .colab-df-container {\n",
              "      display:flex;\n",
              "      flex-wrap:wrap;\n",
              "      gap: 12px;\n",
              "    }\n",
              "\n",
              "    .colab-df-convert {\n",
              "      background-color: #E8F0FE;\n",
              "      border: none;\n",
              "      border-radius: 50%;\n",
              "      cursor: pointer;\n",
              "      display: none;\n",
              "      fill: #1967D2;\n",
              "      height: 32px;\n",
              "      padding: 0 0 0 0;\n",
              "      width: 32px;\n",
              "    }\n",
              "\n",
              "    .colab-df-convert:hover {\n",
              "      background-color: #E2EBFA;\n",
              "      box-shadow: 0px 1px 2px rgba(60, 64, 67, 0.3), 0px 1px 3px 1px rgba(60, 64, 67, 0.15);\n",
              "      fill: #174EA6;\n",
              "    }\n",
              "\n",
              "    [theme=dark] .colab-df-convert {\n",
              "      background-color: #3B4455;\n",
              "      fill: #D2E3FC;\n",
              "    }\n",
              "\n",
              "    [theme=dark] .colab-df-convert:hover {\n",
              "      background-color: #434B5C;\n",
              "      box-shadow: 0px 1px 3px 1px rgba(0, 0, 0, 0.15);\n",
              "      filter: drop-shadow(0px 1px 2px rgba(0, 0, 0, 0.3));\n",
              "      fill: #FFFFFF;\n",
              "    }\n",
              "  </style>\n",
              "\n",
              "      <script>\n",
              "        const buttonEl =\n",
              "          document.querySelector('#df-b7fb698a-ff09-4a00-a0c8-64d96d5baaf8 button.colab-df-convert');\n",
              "        buttonEl.style.display =\n",
              "          google.colab.kernel.accessAllowed ? 'block' : 'none';\n",
              "\n",
              "        async function convertToInteractive(key) {\n",
              "          const element = document.querySelector('#df-b7fb698a-ff09-4a00-a0c8-64d96d5baaf8');\n",
              "          const dataTable =\n",
              "            await google.colab.kernel.invokeFunction('convertToInteractive',\n",
              "                                                     [key], {});\n",
              "          if (!dataTable) return;\n",
              "\n",
              "          const docLinkHtml = 'Like what you see? Visit the ' +\n",
              "            '<a target=\"_blank\" href=https://colab.research.google.com/notebooks/data_table.ipynb>data table notebook</a>'\n",
              "            + ' to learn more about interactive tables.';\n",
              "          element.innerHTML = '';\n",
              "          dataTable['output_type'] = 'display_data';\n",
              "          await google.colab.output.renderOutput(dataTable, element);\n",
              "          const docLink = document.createElement('div');\n",
              "          docLink.innerHTML = docLinkHtml;\n",
              "          element.appendChild(docLink);\n",
              "        }\n",
              "      </script>\n",
              "    </div>\n",
              "  </div>\n",
              "  "
            ]
          },
          "metadata": {},
          "execution_count": 37
        }
      ]
    },
    {
      "cell_type": "code",
      "source": [
        "volatilidades_mensuales4 = {}\n",
        "\n",
        "for i in range(len(log_variables)):\n",
        "  volatilidades_mensuales4[log_variables[i]] = volatilidades_diarias4[log_variables[i]]*np.sqrt(22)\n",
        "df_vol_mensuales4 = pd.DataFrame(data = volatilidades_mensuales4, index=[1])\n",
        "df_vol_mensuales4"
      ],
      "metadata": {
        "colab": {
          "base_uri": "https://localhost:8080/",
          "height": 142
        },
        "id": "JInX6nK8RhTM",
        "outputId": "36f76f72-c259-40b3-caee-3f1b13dcb584"
      },
      "execution_count": null,
      "outputs": [
        {
          "output_type": "execute_result",
          "data": {
            "text/plain": [
              "   log_IPSA  log_Latam   log_USA  log_Europe  log_Asia Dev  log_Asia EM  \\\n",
              "1  0.093861   0.093832  0.073833    0.062935       0.05738     0.059517   \n",
              "\n",
              "   log_EMEA  log_CLP Dur < 5Y  log_UF Dur < 5Y  log_Gob Dur >5Y  \\\n",
              "1  0.062019           0.01086         0.010652         0.030056   \n",
              "\n",
              "   log_Corporativos Chile  log_Corporativos EM  log_Corporativos Dev HY  \\\n",
              "1                0.014875             0.038004                 0.038162   \n",
              "\n",
              "   log_Corporativos Dev IG  log_Treasury  \n",
              "1                  0.04044      0.044795  "
            ],
            "text/html": [
              "\n",
              "  <div id=\"df-2332a4a3-9928-4150-b591-30c21d1c3099\">\n",
              "    <div class=\"colab-df-container\">\n",
              "      <div>\n",
              "<style scoped>\n",
              "    .dataframe tbody tr th:only-of-type {\n",
              "        vertical-align: middle;\n",
              "    }\n",
              "\n",
              "    .dataframe tbody tr th {\n",
              "        vertical-align: top;\n",
              "    }\n",
              "\n",
              "    .dataframe thead th {\n",
              "        text-align: right;\n",
              "    }\n",
              "</style>\n",
              "<table border=\"1\" class=\"dataframe\">\n",
              "  <thead>\n",
              "    <tr style=\"text-align: right;\">\n",
              "      <th></th>\n",
              "      <th>log_IPSA</th>\n",
              "      <th>log_Latam</th>\n",
              "      <th>log_USA</th>\n",
              "      <th>log_Europe</th>\n",
              "      <th>log_Asia Dev</th>\n",
              "      <th>log_Asia EM</th>\n",
              "      <th>log_EMEA</th>\n",
              "      <th>log_CLP Dur &lt; 5Y</th>\n",
              "      <th>log_UF Dur &lt; 5Y</th>\n",
              "      <th>log_Gob Dur &gt;5Y</th>\n",
              "      <th>log_Corporativos Chile</th>\n",
              "      <th>log_Corporativos EM</th>\n",
              "      <th>log_Corporativos Dev HY</th>\n",
              "      <th>log_Corporativos Dev IG</th>\n",
              "      <th>log_Treasury</th>\n",
              "    </tr>\n",
              "  </thead>\n",
              "  <tbody>\n",
              "    <tr>\n",
              "      <th>1</th>\n",
              "      <td>0.093861</td>\n",
              "      <td>0.093832</td>\n",
              "      <td>0.073833</td>\n",
              "      <td>0.062935</td>\n",
              "      <td>0.05738</td>\n",
              "      <td>0.059517</td>\n",
              "      <td>0.062019</td>\n",
              "      <td>0.01086</td>\n",
              "      <td>0.010652</td>\n",
              "      <td>0.030056</td>\n",
              "      <td>0.014875</td>\n",
              "      <td>0.038004</td>\n",
              "      <td>0.038162</td>\n",
              "      <td>0.04044</td>\n",
              "      <td>0.044795</td>\n",
              "    </tr>\n",
              "  </tbody>\n",
              "</table>\n",
              "</div>\n",
              "      <button class=\"colab-df-convert\" onclick=\"convertToInteractive('df-2332a4a3-9928-4150-b591-30c21d1c3099')\"\n",
              "              title=\"Convert this dataframe to an interactive table.\"\n",
              "              style=\"display:none;\">\n",
              "        \n",
              "  <svg xmlns=\"http://www.w3.org/2000/svg\" height=\"24px\"viewBox=\"0 0 24 24\"\n",
              "       width=\"24px\">\n",
              "    <path d=\"M0 0h24v24H0V0z\" fill=\"none\"/>\n",
              "    <path d=\"M18.56 5.44l.94 2.06.94-2.06 2.06-.94-2.06-.94-.94-2.06-.94 2.06-2.06.94zm-11 1L8.5 8.5l.94-2.06 2.06-.94-2.06-.94L8.5 2.5l-.94 2.06-2.06.94zm10 10l.94 2.06.94-2.06 2.06-.94-2.06-.94-.94-2.06-.94 2.06-2.06.94z\"/><path d=\"M17.41 7.96l-1.37-1.37c-.4-.4-.92-.59-1.43-.59-.52 0-1.04.2-1.43.59L10.3 9.45l-7.72 7.72c-.78.78-.78 2.05 0 2.83L4 21.41c.39.39.9.59 1.41.59.51 0 1.02-.2 1.41-.59l7.78-7.78 2.81-2.81c.8-.78.8-2.07 0-2.86zM5.41 20L4 18.59l7.72-7.72 1.47 1.35L5.41 20z\"/>\n",
              "  </svg>\n",
              "      </button>\n",
              "      \n",
              "  <style>\n",
              "    .colab-df-container {\n",
              "      display:flex;\n",
              "      flex-wrap:wrap;\n",
              "      gap: 12px;\n",
              "    }\n",
              "\n",
              "    .colab-df-convert {\n",
              "      background-color: #E8F0FE;\n",
              "      border: none;\n",
              "      border-radius: 50%;\n",
              "      cursor: pointer;\n",
              "      display: none;\n",
              "      fill: #1967D2;\n",
              "      height: 32px;\n",
              "      padding: 0 0 0 0;\n",
              "      width: 32px;\n",
              "    }\n",
              "\n",
              "    .colab-df-convert:hover {\n",
              "      background-color: #E2EBFA;\n",
              "      box-shadow: 0px 1px 2px rgba(60, 64, 67, 0.3), 0px 1px 3px 1px rgba(60, 64, 67, 0.15);\n",
              "      fill: #174EA6;\n",
              "    }\n",
              "\n",
              "    [theme=dark] .colab-df-convert {\n",
              "      background-color: #3B4455;\n",
              "      fill: #D2E3FC;\n",
              "    }\n",
              "\n",
              "    [theme=dark] .colab-df-convert:hover {\n",
              "      background-color: #434B5C;\n",
              "      box-shadow: 0px 1px 3px 1px rgba(0, 0, 0, 0.15);\n",
              "      filter: drop-shadow(0px 1px 2px rgba(0, 0, 0, 0.3));\n",
              "      fill: #FFFFFF;\n",
              "    }\n",
              "  </style>\n",
              "\n",
              "      <script>\n",
              "        const buttonEl =\n",
              "          document.querySelector('#df-2332a4a3-9928-4150-b591-30c21d1c3099 button.colab-df-convert');\n",
              "        buttonEl.style.display =\n",
              "          google.colab.kernel.accessAllowed ? 'block' : 'none';\n",
              "\n",
              "        async function convertToInteractive(key) {\n",
              "          const element = document.querySelector('#df-2332a4a3-9928-4150-b591-30c21d1c3099');\n",
              "          const dataTable =\n",
              "            await google.colab.kernel.invokeFunction('convertToInteractive',\n",
              "                                                     [key], {});\n",
              "          if (!dataTable) return;\n",
              "\n",
              "          const docLinkHtml = 'Like what you see? Visit the ' +\n",
              "            '<a target=\"_blank\" href=https://colab.research.google.com/notebooks/data_table.ipynb>data table notebook</a>'\n",
              "            + ' to learn more about interactive tables.';\n",
              "          element.innerHTML = '';\n",
              "          dataTable['output_type'] = 'display_data';\n",
              "          await google.colab.output.renderOutput(dataTable, element);\n",
              "          const docLink = document.createElement('div');\n",
              "          docLink.innerHTML = docLinkHtml;\n",
              "          element.appendChild(docLink);\n",
              "        }\n",
              "      </script>\n",
              "    </div>\n",
              "  </div>\n",
              "  "
            ]
          },
          "metadata": {},
          "execution_count": 38
        }
      ]
    },
    {
      "cell_type": "code",
      "source": [
        "volatilidades_anuales4 = {}\n",
        "\n",
        "for i in range(len(log_variables)):\n",
        "  volatilidades_anuales4[log_variables[i]] = volatilidades_diarias4[log_variables[i]]*np.sqrt(252)\n",
        "df_vol_anuales4 = pd.DataFrame(data = volatilidades_anuales4, index=[1])\n",
        "df_vol_anuales4"
      ],
      "metadata": {
        "colab": {
          "base_uri": "https://localhost:8080/",
          "height": 142
        },
        "id": "x-GhE13_R7Iz",
        "outputId": "3522725f-e039-4c9a-8dbc-2b008c038ef8"
      },
      "execution_count": null,
      "outputs": [
        {
          "output_type": "execute_result",
          "data": {
            "text/plain": [
              "   log_IPSA  log_Latam   log_USA  log_Europe  log_Asia Dev  log_Asia EM  \\\n",
              "1  0.317668   0.317571  0.249886    0.212999        0.1942     0.201433   \n",
              "\n",
              "   log_EMEA  log_CLP Dur < 5Y  log_UF Dur < 5Y  log_Gob Dur >5Y  \\\n",
              "1    0.2099          0.036756         0.036052         0.101722   \n",
              "\n",
              "   log_Corporativos Chile  log_Corporativos EM  log_Corporativos Dev HY  \\\n",
              "1                0.050345             0.128624                 0.129157   \n",
              "\n",
              "   log_Corporativos Dev IG  log_Treasury  \n",
              "1                 0.136866      0.151608  "
            ],
            "text/html": [
              "\n",
              "  <div id=\"df-9678de29-e0dd-4f7b-b3b5-be3643e70ac0\">\n",
              "    <div class=\"colab-df-container\">\n",
              "      <div>\n",
              "<style scoped>\n",
              "    .dataframe tbody tr th:only-of-type {\n",
              "        vertical-align: middle;\n",
              "    }\n",
              "\n",
              "    .dataframe tbody tr th {\n",
              "        vertical-align: top;\n",
              "    }\n",
              "\n",
              "    .dataframe thead th {\n",
              "        text-align: right;\n",
              "    }\n",
              "</style>\n",
              "<table border=\"1\" class=\"dataframe\">\n",
              "  <thead>\n",
              "    <tr style=\"text-align: right;\">\n",
              "      <th></th>\n",
              "      <th>log_IPSA</th>\n",
              "      <th>log_Latam</th>\n",
              "      <th>log_USA</th>\n",
              "      <th>log_Europe</th>\n",
              "      <th>log_Asia Dev</th>\n",
              "      <th>log_Asia EM</th>\n",
              "      <th>log_EMEA</th>\n",
              "      <th>log_CLP Dur &lt; 5Y</th>\n",
              "      <th>log_UF Dur &lt; 5Y</th>\n",
              "      <th>log_Gob Dur &gt;5Y</th>\n",
              "      <th>log_Corporativos Chile</th>\n",
              "      <th>log_Corporativos EM</th>\n",
              "      <th>log_Corporativos Dev HY</th>\n",
              "      <th>log_Corporativos Dev IG</th>\n",
              "      <th>log_Treasury</th>\n",
              "    </tr>\n",
              "  </thead>\n",
              "  <tbody>\n",
              "    <tr>\n",
              "      <th>1</th>\n",
              "      <td>0.317668</td>\n",
              "      <td>0.317571</td>\n",
              "      <td>0.249886</td>\n",
              "      <td>0.212999</td>\n",
              "      <td>0.1942</td>\n",
              "      <td>0.201433</td>\n",
              "      <td>0.2099</td>\n",
              "      <td>0.036756</td>\n",
              "      <td>0.036052</td>\n",
              "      <td>0.101722</td>\n",
              "      <td>0.050345</td>\n",
              "      <td>0.128624</td>\n",
              "      <td>0.129157</td>\n",
              "      <td>0.136866</td>\n",
              "      <td>0.151608</td>\n",
              "    </tr>\n",
              "  </tbody>\n",
              "</table>\n",
              "</div>\n",
              "      <button class=\"colab-df-convert\" onclick=\"convertToInteractive('df-9678de29-e0dd-4f7b-b3b5-be3643e70ac0')\"\n",
              "              title=\"Convert this dataframe to an interactive table.\"\n",
              "              style=\"display:none;\">\n",
              "        \n",
              "  <svg xmlns=\"http://www.w3.org/2000/svg\" height=\"24px\"viewBox=\"0 0 24 24\"\n",
              "       width=\"24px\">\n",
              "    <path d=\"M0 0h24v24H0V0z\" fill=\"none\"/>\n",
              "    <path d=\"M18.56 5.44l.94 2.06.94-2.06 2.06-.94-2.06-.94-.94-2.06-.94 2.06-2.06.94zm-11 1L8.5 8.5l.94-2.06 2.06-.94-2.06-.94L8.5 2.5l-.94 2.06-2.06.94zm10 10l.94 2.06.94-2.06 2.06-.94-2.06-.94-.94-2.06-.94 2.06-2.06.94z\"/><path d=\"M17.41 7.96l-1.37-1.37c-.4-.4-.92-.59-1.43-.59-.52 0-1.04.2-1.43.59L10.3 9.45l-7.72 7.72c-.78.78-.78 2.05 0 2.83L4 21.41c.39.39.9.59 1.41.59.51 0 1.02-.2 1.41-.59l7.78-7.78 2.81-2.81c.8-.78.8-2.07 0-2.86zM5.41 20L4 18.59l7.72-7.72 1.47 1.35L5.41 20z\"/>\n",
              "  </svg>\n",
              "      </button>\n",
              "      \n",
              "  <style>\n",
              "    .colab-df-container {\n",
              "      display:flex;\n",
              "      flex-wrap:wrap;\n",
              "      gap: 12px;\n",
              "    }\n",
              "\n",
              "    .colab-df-convert {\n",
              "      background-color: #E8F0FE;\n",
              "      border: none;\n",
              "      border-radius: 50%;\n",
              "      cursor: pointer;\n",
              "      display: none;\n",
              "      fill: #1967D2;\n",
              "      height: 32px;\n",
              "      padding: 0 0 0 0;\n",
              "      width: 32px;\n",
              "    }\n",
              "\n",
              "    .colab-df-convert:hover {\n",
              "      background-color: #E2EBFA;\n",
              "      box-shadow: 0px 1px 2px rgba(60, 64, 67, 0.3), 0px 1px 3px 1px rgba(60, 64, 67, 0.15);\n",
              "      fill: #174EA6;\n",
              "    }\n",
              "\n",
              "    [theme=dark] .colab-df-convert {\n",
              "      background-color: #3B4455;\n",
              "      fill: #D2E3FC;\n",
              "    }\n",
              "\n",
              "    [theme=dark] .colab-df-convert:hover {\n",
              "      background-color: #434B5C;\n",
              "      box-shadow: 0px 1px 3px 1px rgba(0, 0, 0, 0.15);\n",
              "      filter: drop-shadow(0px 1px 2px rgba(0, 0, 0, 0.3));\n",
              "      fill: #FFFFFF;\n",
              "    }\n",
              "  </style>\n",
              "\n",
              "      <script>\n",
              "        const buttonEl =\n",
              "          document.querySelector('#df-9678de29-e0dd-4f7b-b3b5-be3643e70ac0 button.colab-df-convert');\n",
              "        buttonEl.style.display =\n",
              "          google.colab.kernel.accessAllowed ? 'block' : 'none';\n",
              "\n",
              "        async function convertToInteractive(key) {\n",
              "          const element = document.querySelector('#df-9678de29-e0dd-4f7b-b3b5-be3643e70ac0');\n",
              "          const dataTable =\n",
              "            await google.colab.kernel.invokeFunction('convertToInteractive',\n",
              "                                                     [key], {});\n",
              "          if (!dataTable) return;\n",
              "\n",
              "          const docLinkHtml = 'Like what you see? Visit the ' +\n",
              "            '<a target=\"_blank\" href=https://colab.research.google.com/notebooks/data_table.ipynb>data table notebook</a>'\n",
              "            + ' to learn more about interactive tables.';\n",
              "          element.innerHTML = '';\n",
              "          dataTable['output_type'] = 'display_data';\n",
              "          await google.colab.output.renderOutput(dataTable, element);\n",
              "          const docLink = document.createElement('div');\n",
              "          docLink.innerHTML = docLinkHtml;\n",
              "          element.appendChild(docLink);\n",
              "        }\n",
              "      </script>\n",
              "    </div>\n",
              "  </div>\n",
              "  "
            ]
          },
          "metadata": {},
          "execution_count": 39
        }
      ]
    },
    {
      "cell_type": "markdown",
      "source": [
        "###3.1 Correlación"
      ],
      "metadata": {
        "id": "UWE4vMLxR7dC"
      }
    },
    {
      "cell_type": "code",
      "source": [
        "corr4 = df_log4.corr()\n",
        "plt.figure(figsize=(16,16))\n",
        "sns.heatmap(corr4, xticklabels= corr4.columns.values, yticklabels= corr4.columns.values, annot=True)"
      ],
      "metadata": {
        "colab": {
          "base_uri": "https://localhost:8080/",
          "height": 1000
        },
        "id": "JtA90dqnScYA",
        "outputId": "3f4e7894-fa92-4505-ed5e-b335023b1dc6"
      },
      "execution_count": null,
      "outputs": [
        {
          "output_type": "execute_result",
          "data": {
            "text/plain": [
              "<matplotlib.axes._subplots.AxesSubplot at 0x7f9e7dc094d0>"
            ]
          },
          "metadata": {},
          "execution_count": 40
        },
        {
          "output_type": "display_data",
          "data": {
            "text/plain": [
              "<Figure size 1152x1152 with 2 Axes>"
            ],
            "image/png": "[encoded data removed]"
          },
          "metadata": {
            "needs_background": "light"
          }
        }
      ]
    },
    {
      "cell_type": "markdown",
      "source": [
        "###3.1 Retornos"
      ],
      "metadata": {
        "id": "07mUpv70Sitg"
      }
    },
    {
      "cell_type": "code",
      "source": [
        "retornos_mensuales4 = {}\n",
        "\n",
        "for i in range(len(log_variables)):\n",
        "  retornos_mensuales4[log_variables[i]] = df_log4[log_variables[i]].mean()*22\n",
        "df_ret_mensuales4 = pd.DataFrame(data = retornos_mensuales4 , index=[1])\n",
        "df_ret_mensuales4"
      ],
      "metadata": {
        "colab": {
          "base_uri": "https://localhost:8080/",
          "height": 142
        },
        "id": "vIACEU8xSkgR",
        "outputId": "ae390f36-40b3-4538-e674-cd7bb3b3c157"
      },
      "execution_count": null,
      "outputs": [
        {
          "output_type": "execute_result",
          "data": {
            "text/plain": [
              "   log_IPSA  log_Latam   log_USA  log_Europe  log_Asia Dev  log_Asia EM  \\\n",
              "1  0.000528  -0.001905  0.015638    0.007734      0.005944     0.007655   \n",
              "\n",
              "   log_EMEA  log_CLP Dur < 5Y  log_UF Dur < 5Y  log_Gob Dur >5Y  \\\n",
              "1  0.003014          0.001197         0.002302        -0.000475   \n",
              "\n",
              "   log_Corporativos Chile  log_Corporativos EM  log_Corporativos Dev HY  \\\n",
              "1                0.001476             0.002499                  0.00387   \n",
              "\n",
              "   log_Corporativos Dev IG  log_Treasury  \n",
              "1                 0.003184      0.003715  "
            ],
            "text/html": [
              "\n",
              "  <div id=\"df-d8687944-e609-47d2-9d7a-1ebdb9e3bbb3\">\n",
              "    <div class=\"colab-df-container\">\n",
              "      <div>\n",
              "<style scoped>\n",
              "    .dataframe tbody tr th:only-of-type {\n",
              "        vertical-align: middle;\n",
              "    }\n",
              "\n",
              "    .dataframe tbody tr th {\n",
              "        vertical-align: top;\n",
              "    }\n",
              "\n",
              "    .dataframe thead th {\n",
              "        text-align: right;\n",
              "    }\n",
              "</style>\n",
              "<table border=\"1\" class=\"dataframe\">\n",
              "  <thead>\n",
              "    <tr style=\"text-align: right;\">\n",
              "      <th></th>\n",
              "      <th>log_IPSA</th>\n",
              "      <th>log_Latam</th>\n",
              "      <th>log_USA</th>\n",
              "      <th>log_Europe</th>\n",
              "      <th>log_Asia Dev</th>\n",
              "      <th>log_Asia EM</th>\n",
              "      <th>log_EMEA</th>\n",
              "      <th>log_CLP Dur &lt; 5Y</th>\n",
              "      <th>log_UF Dur &lt; 5Y</th>\n",
              "      <th>log_Gob Dur &gt;5Y</th>\n",
              "      <th>log_Corporativos Chile</th>\n",
              "      <th>log_Corporativos EM</th>\n",
              "      <th>log_Corporativos Dev HY</th>\n",
              "      <th>log_Corporativos Dev IG</th>\n",
              "      <th>log_Treasury</th>\n",
              "    </tr>\n",
              "  </thead>\n",
              "  <tbody>\n",
              "    <tr>\n",
              "      <th>1</th>\n",
              "      <td>0.000528</td>\n",
              "      <td>-0.001905</td>\n",
              "      <td>0.015638</td>\n",
              "      <td>0.007734</td>\n",
              "      <td>0.005944</td>\n",
              "      <td>0.007655</td>\n",
              "      <td>0.003014</td>\n",
              "      <td>0.001197</td>\n",
              "      <td>0.002302</td>\n",
              "      <td>-0.000475</td>\n",
              "      <td>0.001476</td>\n",
              "      <td>0.002499</td>\n",
              "      <td>0.00387</td>\n",
              "      <td>0.003184</td>\n",
              "      <td>0.003715</td>\n",
              "    </tr>\n",
              "  </tbody>\n",
              "</table>\n",
              "</div>\n",
              "      <button class=\"colab-df-convert\" onclick=\"convertToInteractive('df-d8687944-e609-47d2-9d7a-1ebdb9e3bbb3')\"\n",
              "              title=\"Convert this dataframe to an interactive table.\"\n",
              "              style=\"display:none;\">\n",
              "        \n",
              "  <svg xmlns=\"http://www.w3.org/2000/svg\" height=\"24px\"viewBox=\"0 0 24 24\"\n",
              "       width=\"24px\">\n",
              "    <path d=\"M0 0h24v24H0V0z\" fill=\"none\"/>\n",
              "    <path d=\"M18.56 5.44l.94 2.06.94-2.06 2.06-.94-2.06-.94-.94-2.06-.94 2.06-2.06.94zm-11 1L8.5 8.5l.94-2.06 2.06-.94-2.06-.94L8.5 2.5l-.94 2.06-2.06.94zm10 10l.94 2.06.94-2.06 2.06-.94-2.06-.94-.94-2.06-.94 2.06-2.06.94z\"/><path d=\"M17.41 7.96l-1.37-1.37c-.4-.4-.92-.59-1.43-.59-.52 0-1.04.2-1.43.59L10.3 9.45l-7.72 7.72c-.78.78-.78 2.05 0 2.83L4 21.41c.39.39.9.59 1.41.59.51 0 1.02-.2 1.41-.59l7.78-7.78 2.81-2.81c.8-.78.8-2.07 0-2.86zM5.41 20L4 18.59l7.72-7.72 1.47 1.35L5.41 20z\"/>\n",
              "  </svg>\n",
              "      </button>\n",
              "      \n",
              "  <style>\n",
              "    .colab-df-container {\n",
              "      display:flex;\n",
              "      flex-wrap:wrap;\n",
              "      gap: 12px;\n",
              "    }\n",
              "\n",
              "    .colab-df-convert {\n",
              "      background-color: #E8F0FE;\n",
              "      border: none;\n",
              "      border-radius: 50%;\n",
              "      cursor: pointer;\n",
              "      display: none;\n",
              "      fill: #1967D2;\n",
              "      height: 32px;\n",
              "      padding: 0 0 0 0;\n",
              "      width: 32px;\n",
              "    }\n",
              "\n",
              "    .colab-df-convert:hover {\n",
              "      background-color: #E2EBFA;\n",
              "      box-shadow: 0px 1px 2px rgba(60, 64, 67, 0.3), 0px 1px 3px 1px rgba(60, 64, 67, 0.15);\n",
              "      fill: #174EA6;\n",
              "    }\n",
              "\n",
              "    [theme=dark] .colab-df-convert {\n",
              "      background-color: #3B4455;\n",
              "      fill: #D2E3FC;\n",
              "    }\n",
              "\n",
              "    [theme=dark] .colab-df-convert:hover {\n",
              "      background-color: #434B5C;\n",
              "      box-shadow: 0px 1px 3px 1px rgba(0, 0, 0, 0.15);\n",
              "      filter: drop-shadow(0px 1px 2px rgba(0, 0, 0, 0.3));\n",
              "      fill: #FFFFFF;\n",
              "    }\n",
              "  </style>\n",
              "\n",
              "      <script>\n",
              "        const buttonEl =\n",
              "          document.querySelector('#df-d8687944-e609-47d2-9d7a-1ebdb9e3bbb3 button.colab-df-convert');\n",
              "        buttonEl.style.display =\n",
              "          google.colab.kernel.accessAllowed ? 'block' : 'none';\n",
              "\n",
              "        async function convertToInteractive(key) {\n",
              "          const element = document.querySelector('#df-d8687944-e609-47d2-9d7a-1ebdb9e3bbb3');\n",
              "          const dataTable =\n",
              "            await google.colab.kernel.invokeFunction('convertToInteractive',\n",
              "                                                     [key], {});\n",
              "          if (!dataTable) return;\n",
              "\n",
              "          const docLinkHtml = 'Like what you see? Visit the ' +\n",
              "            '<a target=\"_blank\" href=https://colab.research.google.com/notebooks/data_table.ipynb>data table notebook</a>'\n",
              "            + ' to learn more about interactive tables.';\n",
              "          element.innerHTML = '';\n",
              "          dataTable['output_type'] = 'display_data';\n",
              "          await google.colab.output.renderOutput(dataTable, element);\n",
              "          const docLink = document.createElement('div');\n",
              "          docLink.innerHTML = docLinkHtml;\n",
              "          element.appendChild(docLink);\n",
              "        }\n",
              "      </script>\n",
              "    </div>\n",
              "  </div>\n",
              "  "
            ]
          },
          "metadata": {},
          "execution_count": 41
        }
      ]
    },
    {
      "cell_type": "code",
      "source": [
        "retornos_anuales4 = {}\n",
        "\n",
        "for i in range(len(log_variables)):\n",
        "  retornos_anuales4[log_variables[i]] = df_log4[log_variables[i]].mean()*252\n",
        "df_ret_anuales4 = pd.DataFrame(data = retornos_anuales4 , index=[1])\n",
        "df_ret_anuales4"
      ],
      "metadata": {
        "colab": {
          "base_uri": "https://localhost:8080/",
          "height": 142
        },
        "id": "NaNgb-S3SuQx",
        "outputId": "636bd486-7884-45a9-9539-6c44e2d9c168"
      },
      "execution_count": null,
      "outputs": [
        {
          "output_type": "execute_result",
          "data": {
            "text/plain": [
              "   log_IPSA  log_Latam  log_USA  log_Europe  log_Asia Dev  log_Asia EM  \\\n",
              "1  0.006046  -0.021816  0.17913    0.088591      0.068091     0.087682   \n",
              "\n",
              "   log_EMEA  log_CLP Dur < 5Y  log_UF Dur < 5Y  log_Gob Dur >5Y  \\\n",
              "1  0.034519          0.013709         0.026364        -0.005437   \n",
              "\n",
              "   log_Corporativos Chile  log_Corporativos EM  log_Corporativos Dev HY  \\\n",
              "1                0.016909             0.028619                 0.044334   \n",
              "\n",
              "   log_Corporativos Dev IG  log_Treasury  \n",
              "1                 0.036471      0.042558  "
            ],
            "text/html": [
              "\n",
              "  <div id=\"df-90585c7d-ebed-4223-b3d6-3c7ef82fa362\">\n",
              "    <div class=\"colab-df-container\">\n",
              "      <div>\n",
              "<style scoped>\n",
              "    .dataframe tbody tr th:only-of-type {\n",
              "        vertical-align: middle;\n",
              "    }\n",
              "\n",
              "    .dataframe tbody tr th {\n",
              "        vertical-align: top;\n",
              "    }\n",
              "\n",
              "    .dataframe thead th {\n",
              "        text-align: right;\n",
              "    }\n",
              "</style>\n",
              "<table border=\"1\" class=\"dataframe\">\n",
              "  <thead>\n",
              "    <tr style=\"text-align: right;\">\n",
              "      <th></th>\n",
              "      <th>log_IPSA</th>\n",
              "      <th>log_Latam</th>\n",
              "      <th>log_USA</th>\n",
              "      <th>log_Europe</th>\n",
              "      <th>log_Asia Dev</th>\n",
              "      <th>log_Asia EM</th>\n",
              "      <th>log_EMEA</th>\n",
              "      <th>log_CLP Dur &lt; 5Y</th>\n",
              "      <th>log_UF Dur &lt; 5Y</th>\n",
              "      <th>log_Gob Dur &gt;5Y</th>\n",
              "      <th>log_Corporativos Chile</th>\n",
              "      <th>log_Corporativos EM</th>\n",
              "      <th>log_Corporativos Dev HY</th>\n",
              "      <th>log_Corporativos Dev IG</th>\n",
              "      <th>log_Treasury</th>\n",
              "    </tr>\n",
              "  </thead>\n",
              "  <tbody>\n",
              "    <tr>\n",
              "      <th>1</th>\n",
              "      <td>0.006046</td>\n",
              "      <td>-0.021816</td>\n",
              "      <td>0.17913</td>\n",
              "      <td>0.088591</td>\n",
              "      <td>0.068091</td>\n",
              "      <td>0.087682</td>\n",
              "      <td>0.034519</td>\n",
              "      <td>0.013709</td>\n",
              "      <td>0.026364</td>\n",
              "      <td>-0.005437</td>\n",
              "      <td>0.016909</td>\n",
              "      <td>0.028619</td>\n",
              "      <td>0.044334</td>\n",
              "      <td>0.036471</td>\n",
              "      <td>0.042558</td>\n",
              "    </tr>\n",
              "  </tbody>\n",
              "</table>\n",
              "</div>\n",
              "      <button class=\"colab-df-convert\" onclick=\"convertToInteractive('df-90585c7d-ebed-4223-b3d6-3c7ef82fa362')\"\n",
              "              title=\"Convert this dataframe to an interactive table.\"\n",
              "              style=\"display:none;\">\n",
              "        \n",
              "  <svg xmlns=\"http://www.w3.org/2000/svg\" height=\"24px\"viewBox=\"0 0 24 24\"\n",
              "       width=\"24px\">\n",
              "    <path d=\"M0 0h24v24H0V0z\" fill=\"none\"/>\n",
              "    <path d=\"M18.56 5.44l.94 2.06.94-2.06 2.06-.94-2.06-.94-.94-2.06-.94 2.06-2.06.94zm-11 1L8.5 8.5l.94-2.06 2.06-.94-2.06-.94L8.5 2.5l-.94 2.06-2.06.94zm10 10l.94 2.06.94-2.06 2.06-.94-2.06-.94-.94-2.06-.94 2.06-2.06.94z\"/><path d=\"M17.41 7.96l-1.37-1.37c-.4-.4-.92-.59-1.43-.59-.52 0-1.04.2-1.43.59L10.3 9.45l-7.72 7.72c-.78.78-.78 2.05 0 2.83L4 21.41c.39.39.9.59 1.41.59.51 0 1.02-.2 1.41-.59l7.78-7.78 2.81-2.81c.8-.78.8-2.07 0-2.86zM5.41 20L4 18.59l7.72-7.72 1.47 1.35L5.41 20z\"/>\n",
              "  </svg>\n",
              "      </button>\n",
              "      \n",
              "  <style>\n",
              "    .colab-df-container {\n",
              "      display:flex;\n",
              "      flex-wrap:wrap;\n",
              "      gap: 12px;\n",
              "    }\n",
              "\n",
              "    .colab-df-convert {\n",
              "      background-color: #E8F0FE;\n",
              "      border: none;\n",
              "      border-radius: 50%;\n",
              "      cursor: pointer;\n",
              "      display: none;\n",
              "      fill: #1967D2;\n",
              "      height: 32px;\n",
              "      padding: 0 0 0 0;\n",
              "      width: 32px;\n",
              "    }\n",
              "\n",
              "    .colab-df-convert:hover {\n",
              "      background-color: #E2EBFA;\n",
              "      box-shadow: 0px 1px 2px rgba(60, 64, 67, 0.3), 0px 1px 3px 1px rgba(60, 64, 67, 0.15);\n",
              "      fill: #174EA6;\n",
              "    }\n",
              "\n",
              "    [theme=dark] .colab-df-convert {\n",
              "      background-color: #3B4455;\n",
              "      fill: #D2E3FC;\n",
              "    }\n",
              "\n",
              "    [theme=dark] .colab-df-convert:hover {\n",
              "      background-color: #434B5C;\n",
              "      box-shadow: 0px 1px 3px 1px rgba(0, 0, 0, 0.15);\n",
              "      filter: drop-shadow(0px 1px 2px rgba(0, 0, 0, 0.3));\n",
              "      fill: #FFFFFF;\n",
              "    }\n",
              "  </style>\n",
              "\n",
              "      <script>\n",
              "        const buttonEl =\n",
              "          document.querySelector('#df-90585c7d-ebed-4223-b3d6-3c7ef82fa362 button.colab-df-convert');\n",
              "        buttonEl.style.display =\n",
              "          google.colab.kernel.accessAllowed ? 'block' : 'none';\n",
              "\n",
              "        async function convertToInteractive(key) {\n",
              "          const element = document.querySelector('#df-90585c7d-ebed-4223-b3d6-3c7ef82fa362');\n",
              "          const dataTable =\n",
              "            await google.colab.kernel.invokeFunction('convertToInteractive',\n",
              "                                                     [key], {});\n",
              "          if (!dataTable) return;\n",
              "\n",
              "          const docLinkHtml = 'Like what you see? Visit the ' +\n",
              "            '<a target=\"_blank\" href=https://colab.research.google.com/notebooks/data_table.ipynb>data table notebook</a>'\n",
              "            + ' to learn more about interactive tables.';\n",
              "          element.innerHTML = '';\n",
              "          dataTable['output_type'] = 'display_data';\n",
              "          await google.colab.output.renderOutput(dataTable, element);\n",
              "          const docLink = document.createElement('div');\n",
              "          docLink.innerHTML = docLinkHtml;\n",
              "          element.appendChild(docLink);\n",
              "        }\n",
              "      </script>\n",
              "    </div>\n",
              "  </div>\n",
              "  "
            ]
          },
          "metadata": {},
          "execution_count": 42
        }
      ]
    },
    {
      "cell_type": "markdown",
      "source": [
        "###3.2 Portafolio 2020 - actualidad\n"
      ],
      "metadata": {
        "id": "i8HEsG9_TJjg"
      }
    },
    {
      "cell_type": "markdown",
      "source": [
        "Recordamos nuestros indices de la P2"
      ],
      "metadata": {
        "id": "dqa2YSRuehHX"
      }
    },
    {
      "cell_type": "code",
      "source": [
        "indices"
      ],
      "metadata": {
        "colab": {
          "base_uri": "https://localhost:8080/"
        },
        "id": "5_R7CXmweewx",
        "outputId": "2334577a-c892-4562-c7c9-50c51c071cc8"
      },
      "execution_count": null,
      "outputs": [
        {
          "output_type": "execute_result",
          "data": {
            "text/plain": [
              "['log_IPSA',\n",
              " 'log_USA',\n",
              " 'log_Europe',\n",
              " 'log_Asia Dev',\n",
              " 'log_Asia EM',\n",
              " 'log_UF Dur < 5Y',\n",
              " 'log_Corporativos Dev HY']"
            ]
          },
          "metadata": {},
          "execution_count": 43
        }
      ]
    },
    {
      "cell_type": "markdown",
      "source": [
        ""
      ],
      "metadata": {
        "id": "YDeLHeFOfLiQ"
      }
    },
    {
      "cell_type": "code",
      "source": [
        "portafolio4 = df_log4[indices]"
      ],
      "metadata": {
        "id": "uGULr5cVfFDS"
      },
      "execution_count": null,
      "outputs": []
    },
    {
      "cell_type": "code",
      "source": [
        "cov_portafolio4 = portafolio4.cov()*252"
      ],
      "metadata": {
        "id": "Ma0IMXzkfhZm"
      },
      "execution_count": null,
      "outputs": []
    },
    {
      "cell_type": "code",
      "source": [
        "df_r_anuales4 = portafolio4.mean()*252"
      ],
      "metadata": {
        "id": "VbpkwIVcfkLY"
      },
      "execution_count": null,
      "outputs": []
    },
    {
      "cell_type": "markdown",
      "source": [
        "###3.2 Varianza portafolio 2020 - actualidad"
      ],
      "metadata": {
        "id": "u1HW_Hg0Pbvg"
      }
    },
    {
      "cell_type": "code",
      "source": [
        "varianza_portafolio4 = np.dot(pesos.T, np.dot(cov_portafolio4, pesos))\n",
        "\"La varianza del portafolio es:\" + \" \" + str(round(varianza_portafolio4*100,1))+\"%\""
      ],
      "metadata": {
        "colab": {
          "base_uri": "https://localhost:8080/",
          "height": 35
        },
        "id": "V10HB0sif8P5",
        "outputId": "bb91cc91-504c-4b05-a40a-7d2c9dbe5981"
      },
      "execution_count": null,
      "outputs": [
        {
          "output_type": "execute_result",
          "data": {
            "text/plain": [
              "'La varianza del portafolio es: 1.8%'"
            ],
            "application/vnd.google.colaboratory.intrinsic+json": {
              "type": "string"
            }
          },
          "metadata": {},
          "execution_count": 49
        }
      ]
    },
    {
      "cell_type": "markdown",
      "source": [
        "###3.2 Volatilidad portafolio 2020 - actualidad"
      ],
      "metadata": {
        "id": "hCyKfHTsPk0d"
      }
    },
    {
      "cell_type": "code",
      "source": [
        "volatilidad_portafolio4 = np.sqrt(varianza_portafolio4)\n",
        "\"La volatilidad del portafolio es:\" + \" \" + str(round(volatilidad_portafolio4*100,1))+\"%\""
      ],
      "metadata": {
        "colab": {
          "base_uri": "https://localhost:8080/",
          "height": 35
        },
        "id": "MWUgk8BAgVTT",
        "outputId": "beb863e0-83e9-4487-f4dd-f3bbfdb89492"
      },
      "execution_count": null,
      "outputs": [
        {
          "output_type": "execute_result",
          "data": {
            "text/plain": [
              "'La volatilidad del portafolio es: 13.4%'"
            ],
            "application/vnd.google.colaboratory.intrinsic+json": {
              "type": "string"
            }
          },
          "metadata": {},
          "execution_count": 50
        }
      ]
    },
    {
      "cell_type": "markdown",
      "source": [
        "###3.2 Retorno portafolio 2020 - actualidad"
      ],
      "metadata": {
        "id": "50jLbOhJP95e"
      }
    },
    {
      "cell_type": "code",
      "source": [
        "r_anuales4 = portafolio4.mean()*252\n",
        "retorno_portafolio4 = np.sum(pesos*r_anuales4)\n",
        "'El retorno anual del portafolio es:' + ' ' + str(round(retorno_portafolio4*100,3)) + '%'"
      ],
      "metadata": {
        "colab": {
          "base_uri": "https://localhost:8080/",
          "height": 35
        },
        "id": "Ww8CLPHhghbx",
        "outputId": "aeec6239-21fb-4b59-e68f-9a8aeac2212b"
      },
      "execution_count": null,
      "outputs": [
        {
          "output_type": "execute_result",
          "data": {
            "text/plain": [
              "'El retorno anual del portafolio es: 7.146%'"
            ],
            "application/vnd.google.colaboratory.intrinsic+json": {
              "type": "string"
            }
          },
          "metadata": {},
          "execution_count": 51
        }
      ]
    },
    {
      "cell_type": "markdown",
      "source": [
        "###3.2 Comparación con portafolio parte 2"
      ],
      "metadata": {
        "id": "UYIrObZWQDOr"
      }
    },
    {
      "cell_type": "code",
      "source": [
        "\"La varianza para el portafolio con la información hasta 2019 es:\" + \" \"+  str(round(varianza_portafolio*100,1))+\"%\"+\", mientras que para el portafolio con información desde 2020 hasta la actualidad es:\" +\" \"+ str(round(varianza_portafolio4*100,1))+\"%\""
      ],
      "metadata": {
        "colab": {
          "base_uri": "https://localhost:8080/",
          "height": 35
        },
        "id": "-t000LVEgxOV",
        "outputId": "9c0ca1ce-af8f-4e0e-cf26-76627e062366"
      },
      "execution_count": null,
      "outputs": [
        {
          "output_type": "execute_result",
          "data": {
            "text/plain": [
              "'La varianza para el portafolio con la información hasta 2019 es: 1.0%, mientras que para el portafolio con información desde 2020 hasta la actualidad es: 1.8%'"
            ],
            "application/vnd.google.colaboratory.intrinsic+json": {
              "type": "string"
            }
          },
          "metadata": {},
          "execution_count": 52
        }
      ]
    },
    {
      "cell_type": "code",
      "source": [
        "\"La volatilidad para el portafolio con la información hasta 2019 es:\" + \" \"+  str(round(volatilidad_portafolio*100,1))+\"%\"+\", mientras que para el portafolio con información desde 2020 hasta la actualidad es:\" +\" \"+ str(round(volatilidad_portafolio4*100,1))+\"%\""
      ],
      "metadata": {
        "colab": {
          "base_uri": "https://localhost:8080/",
          "height": 35
        },
        "id": "f7vkQBRlhXWG",
        "outputId": "af7ae6a8-c33d-40aa-bbe4-c48eb550292d"
      },
      "execution_count": null,
      "outputs": [
        {
          "output_type": "execute_result",
          "data": {
            "text/plain": [
              "'La volatilidad para el portafolio con la información hasta 2019 es: 10.0%, mientras que para el portafolio con información desde 2020 hasta la actualidad es: 13.4%'"
            ],
            "application/vnd.google.colaboratory.intrinsic+json": {
              "type": "string"
            }
          },
          "metadata": {},
          "execution_count": 53
        }
      ]
    },
    {
      "cell_type": "code",
      "source": [
        "\"El retorno anual para el portafolio con la información hasta 2019 es:\" + \" \"+  str(round(retorno_portafolio*100,1))+\"%\"+\", mientras que para el portafolio con información desde 2020 hasta la actualidad es:\" +\" \"+ str(round(retorno_portafolio4*100,1))+\"%\""
      ],
      "metadata": {
        "colab": {
          "base_uri": "https://localhost:8080/",
          "height": 35
        },
        "id": "5oeaurnfhksi",
        "outputId": "613aafe6-5f69-4dbf-beaf-8843baee1805"
      },
      "execution_count": null,
      "outputs": [
        {
          "output_type": "execute_result",
          "data": {
            "text/plain": [
              "'El retorno anual para el portafolio con la información hasta 2019 es: 7.0%, mientras que para el portafolio con información desde 2020 hasta la actualidad es: 7.1%'"
            ],
            "application/vnd.google.colaboratory.intrinsic+json": {
              "type": "string"
            }
          },
          "metadata": {},
          "execution_count": 54
        }
      ]
    },
    {
      "cell_type": "markdown",
      "source": [
        ""
      ],
      "metadata": {
        "id": "rOKz1Ls1nm89"
      }
    }
  ]
}